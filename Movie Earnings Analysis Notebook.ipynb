{
 "cells": [
  {
   "cell_type": "markdown",
   "metadata": {},
   "source": [
    "![example](images/director_shot.jpeg)"
   ]
  },
  {
   "cell_type": "markdown",
   "metadata": {},
   "source": [
    "# Microsoft Movie Production\n",
    "\n",
    "**Author:** Elimelech Berlin  \n",
    "**Date:** December 2022\n",
    "***"
   ]
  },
  {
   "cell_type": "markdown",
   "metadata": {},
   "source": [
    "## Overview\n",
    "\n",
    "Microsoft will be getting into the business of movie production. In this report I will be examinig available movie data to determine what types of projects have been the most profitable, and I will make recommendations based on my findings."
   ]
  },
  {
   "cell_type": "markdown",
   "metadata": {},
   "source": [
    "## Business Problem\n",
    "\n",
    "As not all movies are created equal, producing the 'right' type of movie can be a tricky thing. There are a variety of factors that can influence the success and profitablity of a release; these factors are not always apparent. By analyzing available data about a large number of movies (both successful and unsuccessful), we can identify how certain factors impact the earnings of a film."
   ]
  },
  {
   "cell_type": "markdown",
   "metadata": {},
   "source": [
    "## Data Understanding\n",
    "\n",
    "I will be using data from these two files: [im.db.zip](http://localhost:8888/edit/data/zippedData/im.db.zip) and [bom.movie gross.csv.gz](http://localhost:8888/edit/data/zippedData/bom.movie_gross.csv.gz).  \n",
    "They contain data from the following movie data websites: \n",
    "* [Box Office Mojo](https://www.boxofficemojo.com/ 'https://www.boxofficemojo.com/') \n",
    "* [IMDB](https://www.imdb.com/ 'https://www.imdb.com/')\n",
    "* [Rotten Tomatoes](https://www.rottentomatoes.com/ 'https://www.rottentomatoes.com/')\n",
    "* [The Movie DB](https://www.themoviedb.org/ 'https://www.themoviedb.org/')\n",
    "* [The Numbers](https://www.the-numbers.com/ 'https://www.the-numbers.com/')\n",
    "\n",
    "Included in this data is both business information and creative/content information. I will be focusing on some of the business data (earnings) but with an understanding of how it's influenced by other data (genre, producer). "
   ]
  },
  {
   "cell_type": "code",
   "execution_count": 1,
   "metadata": {},
   "outputs": [],
   "source": [
    "# Import standard packages\n",
    "import pandas as pd\n",
    "import numpy as np\n",
    "import matplotlib.pyplot as plt\n",
    "\n",
    "%matplotlib inline"
   ]
  },
  {
   "cell_type": "code",
   "execution_count": 2,
   "metadata": {},
   "outputs": [
    {
     "name": "stdout",
     "output_type": "stream",
     "text": [
      "File Name                                             Modified             Size\n",
      "im.db                                          2021-12-20 16:31:38    169443328\n"
     ]
    }
   ],
   "source": [
    "# import library to unzip file & extract it\n",
    "import zipfile as zf\n",
    "\n",
    "with zf.ZipFile(\"zippedData/im.db.zip\",'r') as IMDB:\n",
    "    IMDB.printdir()\n",
    "    IMDB.extractall('zippedData')"
   ]
  },
  {
   "cell_type": "code",
   "execution_count": 3,
   "metadata": {},
   "outputs": [],
   "source": [
    "import sqlite3"
   ]
  },
  {
   "cell_type": "code",
   "execution_count": 4,
   "metadata": {},
   "outputs": [],
   "source": [
    "conn = sqlite3.connect('zippedData/im.db')"
   ]
  },
  {
   "cell_type": "markdown",
   "metadata": {},
   "source": [
    "With my data imported, I will assemble all of the data to be analyzed into a single master dataframe. Then, I will use different parts of it for each of my investigations."
   ]
  },
  {
   "cell_type": "code",
   "execution_count": 5,
   "metadata": {},
   "outputs": [
    {
     "name": "stdout",
     "output_type": "stream",
     "text": [
      "<class 'pandas.core.frame.DataFrame'>\n",
      "RangeIndex: 3387 entries, 0 to 3386\n",
      "Data columns (total 5 columns):\n",
      " #   Column          Non-Null Count  Dtype  \n",
      "---  ------          --------------  -----  \n",
      " 0   title           3387 non-null   object \n",
      " 1   studio          3382 non-null   object \n",
      " 2   domestic_gross  3359 non-null   float64\n",
      " 3   foreign_gross   2037 non-null   object \n",
      " 4   year            3387 non-null   int64  \n",
      "dtypes: float64(1), int64(1), object(3)\n",
      "memory usage: 132.4+ KB\n"
     ]
    }
   ],
   "source": [
    "# take a look at the bom.movie_gross.csv.gz file\n",
    "bom = pd.read_csv('zippedData/bom.movie_gross.csv.gz')\n",
    "bom.info()"
   ]
  },
  {
   "cell_type": "code",
   "execution_count": 6,
   "metadata": {
    "scrolled": true
   },
   "outputs": [
    {
     "data": {
      "text/html": [
       "<div>\n",
       "<style scoped>\n",
       "    .dataframe tbody tr th:only-of-type {\n",
       "        vertical-align: middle;\n",
       "    }\n",
       "\n",
       "    .dataframe tbody tr th {\n",
       "        vertical-align: top;\n",
       "    }\n",
       "\n",
       "    .dataframe thead th {\n",
       "        text-align: right;\n",
       "    }\n",
       "</style>\n",
       "<table border=\"1\" class=\"dataframe\">\n",
       "  <thead>\n",
       "    <tr style=\"text-align: right;\">\n",
       "      <th></th>\n",
       "      <th>title</th>\n",
       "      <th>studio</th>\n",
       "      <th>domestic_gross</th>\n",
       "      <th>foreign_gross</th>\n",
       "      <th>year</th>\n",
       "    </tr>\n",
       "  </thead>\n",
       "  <tbody>\n",
       "    <tr>\n",
       "      <th>0</th>\n",
       "      <td>Toy Story 3</td>\n",
       "      <td>BV</td>\n",
       "      <td>415000000.0</td>\n",
       "      <td>652000000</td>\n",
       "      <td>2010</td>\n",
       "    </tr>\n",
       "    <tr>\n",
       "      <th>1</th>\n",
       "      <td>Alice in Wonderland (2010)</td>\n",
       "      <td>BV</td>\n",
       "      <td>334200000.0</td>\n",
       "      <td>691300000</td>\n",
       "      <td>2010</td>\n",
       "    </tr>\n",
       "    <tr>\n",
       "      <th>2</th>\n",
       "      <td>Harry Potter and the Deathly Hallows Part 1</td>\n",
       "      <td>WB</td>\n",
       "      <td>296000000.0</td>\n",
       "      <td>664300000</td>\n",
       "      <td>2010</td>\n",
       "    </tr>\n",
       "    <tr>\n",
       "      <th>3</th>\n",
       "      <td>Inception</td>\n",
       "      <td>WB</td>\n",
       "      <td>292600000.0</td>\n",
       "      <td>535700000</td>\n",
       "      <td>2010</td>\n",
       "    </tr>\n",
       "    <tr>\n",
       "      <th>4</th>\n",
       "      <td>Shrek Forever After</td>\n",
       "      <td>P/DW</td>\n",
       "      <td>238700000.0</td>\n",
       "      <td>513900000</td>\n",
       "      <td>2010</td>\n",
       "    </tr>\n",
       "  </tbody>\n",
       "</table>\n",
       "</div>"
      ],
      "text/plain": [
       "                                         title studio  domestic_gross  \\\n",
       "0                                  Toy Story 3     BV     415000000.0   \n",
       "1                   Alice in Wonderland (2010)     BV     334200000.0   \n",
       "2  Harry Potter and the Deathly Hallows Part 1     WB     296000000.0   \n",
       "3                                    Inception     WB     292600000.0   \n",
       "4                          Shrek Forever After   P/DW     238700000.0   \n",
       "\n",
       "  foreign_gross  year  \n",
       "0     652000000  2010  \n",
       "1     691300000  2010  \n",
       "2     664300000  2010  \n",
       "3     535700000  2010  \n",
       "4     513900000  2010  "
      ]
     },
     "execution_count": 6,
     "metadata": {},
     "output_type": "execute_result"
    }
   ],
   "source": [
    "# sample the data to get a sense of it\n",
    "bom.head()"
   ]
  },
  {
   "cell_type": "markdown",
   "metadata": {},
   "source": [
    "To simplify the analysis, I create a new column called 'total_gross' which is the sum of 'domestic_gross' & 'foreign_gross'."
   ]
  },
  {
   "cell_type": "code",
   "execution_count": 7,
   "metadata": {},
   "outputs": [],
   "source": [
    "# remove commas from foreign_gross values to normalize data\n",
    "bom['foreign_gross'] = bom['foreign_gross'].str.replace(',', '')"
   ]
  },
  {
   "cell_type": "code",
   "execution_count": 8,
   "metadata": {},
   "outputs": [],
   "source": [
    "# change data type to numeric\n",
    "bom['foreign_gross'] = bom['foreign_gross'].astype(float)"
   ]
  },
  {
   "cell_type": "code",
   "execution_count": 9,
   "metadata": {},
   "outputs": [],
   "source": [
    "# change null values to 0\n",
    "bom['foreign_gross'] = bom['foreign_gross'].fillna(0)"
   ]
  },
  {
   "cell_type": "code",
   "execution_count": 10,
   "metadata": {},
   "outputs": [],
   "source": [
    "# change null values to 0\n",
    "bom['domestic_gross'] = bom['domestic_gross'].fillna(0)"
   ]
  },
  {
   "cell_type": "code",
   "execution_count": 11,
   "metadata": {},
   "outputs": [
    {
     "data": {
      "text/html": [
       "<div>\n",
       "<style scoped>\n",
       "    .dataframe tbody tr th:only-of-type {\n",
       "        vertical-align: middle;\n",
       "    }\n",
       "\n",
       "    .dataframe tbody tr th {\n",
       "        vertical-align: top;\n",
       "    }\n",
       "\n",
       "    .dataframe thead th {\n",
       "        text-align: right;\n",
       "    }\n",
       "</style>\n",
       "<table border=\"1\" class=\"dataframe\">\n",
       "  <thead>\n",
       "    <tr style=\"text-align: right;\">\n",
       "      <th></th>\n",
       "      <th>title</th>\n",
       "      <th>studio</th>\n",
       "      <th>domestic_gross</th>\n",
       "      <th>foreign_gross</th>\n",
       "      <th>year</th>\n",
       "      <th>total_gross</th>\n",
       "    </tr>\n",
       "  </thead>\n",
       "  <tbody>\n",
       "    <tr>\n",
       "      <th>0</th>\n",
       "      <td>Toy Story 3</td>\n",
       "      <td>BV</td>\n",
       "      <td>415000000.0</td>\n",
       "      <td>652000000.0</td>\n",
       "      <td>2010</td>\n",
       "      <td>1.067000e+09</td>\n",
       "    </tr>\n",
       "    <tr>\n",
       "      <th>1</th>\n",
       "      <td>Alice in Wonderland (2010)</td>\n",
       "      <td>BV</td>\n",
       "      <td>334200000.0</td>\n",
       "      <td>691300000.0</td>\n",
       "      <td>2010</td>\n",
       "      <td>1.025500e+09</td>\n",
       "    </tr>\n",
       "    <tr>\n",
       "      <th>2</th>\n",
       "      <td>Harry Potter and the Deathly Hallows Part 1</td>\n",
       "      <td>WB</td>\n",
       "      <td>296000000.0</td>\n",
       "      <td>664300000.0</td>\n",
       "      <td>2010</td>\n",
       "      <td>9.603000e+08</td>\n",
       "    </tr>\n",
       "    <tr>\n",
       "      <th>3</th>\n",
       "      <td>Inception</td>\n",
       "      <td>WB</td>\n",
       "      <td>292600000.0</td>\n",
       "      <td>535700000.0</td>\n",
       "      <td>2010</td>\n",
       "      <td>8.283000e+08</td>\n",
       "    </tr>\n",
       "    <tr>\n",
       "      <th>4</th>\n",
       "      <td>Shrek Forever After</td>\n",
       "      <td>P/DW</td>\n",
       "      <td>238700000.0</td>\n",
       "      <td>513900000.0</td>\n",
       "      <td>2010</td>\n",
       "      <td>7.526000e+08</td>\n",
       "    </tr>\n",
       "  </tbody>\n",
       "</table>\n",
       "</div>"
      ],
      "text/plain": [
       "                                         title studio  domestic_gross  \\\n",
       "0                                  Toy Story 3     BV     415000000.0   \n",
       "1                   Alice in Wonderland (2010)     BV     334200000.0   \n",
       "2  Harry Potter and the Deathly Hallows Part 1     WB     296000000.0   \n",
       "3                                    Inception     WB     292600000.0   \n",
       "4                          Shrek Forever After   P/DW     238700000.0   \n",
       "\n",
       "   foreign_gross  year   total_gross  \n",
       "0    652000000.0  2010  1.067000e+09  \n",
       "1    691300000.0  2010  1.025500e+09  \n",
       "2    664300000.0  2010  9.603000e+08  \n",
       "3    535700000.0  2010  8.283000e+08  \n",
       "4    513900000.0  2010  7.526000e+08  "
      ]
     },
     "execution_count": 11,
     "metadata": {},
     "output_type": "execute_result"
    }
   ],
   "source": [
    "# create column 'total_gross' by adding 'domestic_gross' & 'foreign_gross'\n",
    "bom['total_gross'] = bom['domestic_gross'] + bom['foreign_gross']\n",
    "\n",
    "# preview results\n",
    "bom.head()"
   ]
  },
  {
   "cell_type": "code",
   "execution_count": 12,
   "metadata": {},
   "outputs": [
    {
     "data": {
      "text/plain": [
       "False    3387\n",
       "Name: total_gross, dtype: int64"
      ]
     },
     "execution_count": 12,
     "metadata": {},
     "output_type": "execute_result"
    }
   ],
   "source": [
    "# ensure that there are no null values in 'total_gross'\n",
    "bom['total_gross'].isna().value_counts()"
   ]
  },
  {
   "cell_type": "code",
   "execution_count": 13,
   "metadata": {},
   "outputs": [
    {
     "data": {
      "text/html": [
       "<div>\n",
       "<style scoped>\n",
       "    .dataframe tbody tr th:only-of-type {\n",
       "        vertical-align: middle;\n",
       "    }\n",
       "\n",
       "    .dataframe tbody tr th {\n",
       "        vertical-align: top;\n",
       "    }\n",
       "\n",
       "    .dataframe thead th {\n",
       "        text-align: right;\n",
       "    }\n",
       "</style>\n",
       "<table border=\"1\" class=\"dataframe\">\n",
       "  <thead>\n",
       "    <tr style=\"text-align: right;\">\n",
       "      <th></th>\n",
       "      <th>title</th>\n",
       "      <th>studio</th>\n",
       "      <th>domestic_gross</th>\n",
       "      <th>foreign_gross</th>\n",
       "      <th>year</th>\n",
       "      <th>total_gross</th>\n",
       "    </tr>\n",
       "  </thead>\n",
       "  <tbody>\n",
       "    <tr>\n",
       "      <th>317</th>\n",
       "      <td>Bluebeard</td>\n",
       "      <td>Strand</td>\n",
       "      <td>33500.0</td>\n",
       "      <td>5200.0</td>\n",
       "      <td>2010</td>\n",
       "      <td>38700.0</td>\n",
       "    </tr>\n",
       "    <tr>\n",
       "      <th>3045</th>\n",
       "      <td>Bluebeard</td>\n",
       "      <td>WGUSA</td>\n",
       "      <td>43100.0</td>\n",
       "      <td>0.0</td>\n",
       "      <td>2017</td>\n",
       "      <td>43100.0</td>\n",
       "    </tr>\n",
       "  </tbody>\n",
       "</table>\n",
       "</div>"
      ],
      "text/plain": [
       "          title  studio  domestic_gross  foreign_gross  year  total_gross\n",
       "317   Bluebeard  Strand         33500.0         5200.0  2010      38700.0\n",
       "3045  Bluebeard   WGUSA         43100.0            0.0  2017      43100.0"
      ]
     },
     "execution_count": 13,
     "metadata": {},
     "output_type": "execute_result"
    }
   ],
   "source": [
    "# check for duplicate rows\n",
    "bom['title'].duplicated().value_counts()\n",
    "# find duplicate row\n",
    "bom[bom['title'].duplicated() == True]\n",
    "# show both rows to see if they are truly duplicate\n",
    "bom[bom['title'] == 'Bluebeard']"
   ]
  },
  {
   "cell_type": "markdown",
   "metadata": {},
   "source": [
    "Although there is more than one entry for a particular movie title, I've discovered that its not a duplicate but 2 different movies with the same title, so I'll leave both of them in place. "
   ]
  },
  {
   "cell_type": "code",
   "execution_count": 14,
   "metadata": {},
   "outputs": [],
   "source": [
    "# delete the 'studio' column bec. it's irrelevant to my analysis\n",
    "bom.drop(['studio'], axis=1, inplace=True)"
   ]
  },
  {
   "cell_type": "markdown",
   "metadata": {},
   "source": [
    "The [bom.movie gross.csv.gz](http://localhost:8888/edit/zippedData/bom.movie_gross.csv.gz) file contains basic information about gross profits from movies, the studios that produced them and their release year. I deleted the studio column as it is irrelevant to my investigation.  \n",
    "Now, I'll get relevant data from the im.db file."
   ]
  },
  {
   "cell_type": "code",
   "execution_count": 15,
   "metadata": {},
   "outputs": [
    {
     "data": {
      "text/html": [
       "<div>\n",
       "<style scoped>\n",
       "    .dataframe tbody tr th:only-of-type {\n",
       "        vertical-align: middle;\n",
       "    }\n",
       "\n",
       "    .dataframe tbody tr th {\n",
       "        vertical-align: top;\n",
       "    }\n",
       "\n",
       "    .dataframe thead th {\n",
       "        text-align: right;\n",
       "    }\n",
       "</style>\n",
       "<table border=\"1\" class=\"dataframe\">\n",
       "  <thead>\n",
       "    <tr style=\"text-align: right;\">\n",
       "      <th></th>\n",
       "      <th>name</th>\n",
       "    </tr>\n",
       "  </thead>\n",
       "  <tbody>\n",
       "    <tr>\n",
       "      <th>0</th>\n",
       "      <td>movie_basics</td>\n",
       "    </tr>\n",
       "    <tr>\n",
       "      <th>1</th>\n",
       "      <td>directors</td>\n",
       "    </tr>\n",
       "    <tr>\n",
       "      <th>2</th>\n",
       "      <td>known_for</td>\n",
       "    </tr>\n",
       "    <tr>\n",
       "      <th>3</th>\n",
       "      <td>movie_akas</td>\n",
       "    </tr>\n",
       "    <tr>\n",
       "      <th>4</th>\n",
       "      <td>movie_ratings</td>\n",
       "    </tr>\n",
       "    <tr>\n",
       "      <th>5</th>\n",
       "      <td>persons</td>\n",
       "    </tr>\n",
       "    <tr>\n",
       "      <th>6</th>\n",
       "      <td>principals</td>\n",
       "    </tr>\n",
       "    <tr>\n",
       "      <th>7</th>\n",
       "      <td>writers</td>\n",
       "    </tr>\n",
       "  </tbody>\n",
       "</table>\n",
       "</div>"
      ],
      "text/plain": [
       "            name\n",
       "0   movie_basics\n",
       "1      directors\n",
       "2      known_for\n",
       "3     movie_akas\n",
       "4  movie_ratings\n",
       "5        persons\n",
       "6     principals\n",
       "7        writers"
      ]
     },
     "execution_count": 15,
     "metadata": {},
     "output_type": "execute_result"
    }
   ],
   "source": [
    "# get table names for im.db\n",
    "pd.read_sql(\"\"\"SELECT name\n",
    "               FROM sqlite_schema;\n",
    "               \"\"\", conn)"
   ]
  },
  {
   "cell_type": "code",
   "execution_count": 16,
   "metadata": {},
   "outputs": [
    {
     "name": "stdout",
     "output_type": "stream",
     "text": [
      "movie_basics Index(['movie_id', 'primary_title', 'original_title', 'start_year',\n",
      "       'runtime_minutes', 'genres'],\n",
      "      dtype='object')\n",
      "directors Index(['movie_id', 'person_id'], dtype='object')\n",
      "known_for Index(['person_id', 'movie_id'], dtype='object')\n",
      "movie_akas Index(['movie_id', 'ordering', 'title', 'region', 'language', 'types',\n",
      "       'attributes', 'is_original_title'],\n",
      "      dtype='object')\n",
      "movie_ratings Index(['movie_id', 'averagerating', 'numvotes'], dtype='object')\n",
      "persons Index(['person_id', 'primary_name', 'birth_year', 'death_year',\n",
      "       'primary_profession'],\n",
      "      dtype='object')\n",
      "principals Index(['movie_id', 'ordering', 'person_id', 'category', 'job', 'characters'], dtype='object')\n",
      "writers Index(['movie_id', 'person_id'], dtype='object')\n"
     ]
    }
   ],
   "source": [
    "# get column names for all tables in im.db\n",
    "col = pd.read_sql(\"\"\"SELECT name\n",
    "               FROM sqlite_schema;\n",
    "               \"\"\", conn)\n",
    "\n",
    "for table in col['name']:\n",
    "    x = pd.read_sql(\"\"\"SELECT *\n",
    "                       FROM {}\n",
    "                       LIMIT 1;\n",
    "                       \"\"\".format(table), conn)\n",
    "    print(table, x.columns)\n"
   ]
  },
  {
   "cell_type": "code",
   "execution_count": 17,
   "metadata": {},
   "outputs": [
    {
     "data": {
      "text/html": [
       "<div>\n",
       "<style scoped>\n",
       "    .dataframe tbody tr th:only-of-type {\n",
       "        vertical-align: middle;\n",
       "    }\n",
       "\n",
       "    .dataframe tbody tr th {\n",
       "        vertical-align: top;\n",
       "    }\n",
       "\n",
       "    .dataframe thead th {\n",
       "        text-align: right;\n",
       "    }\n",
       "</style>\n",
       "<table border=\"1\" class=\"dataframe\">\n",
       "  <thead>\n",
       "    <tr style=\"text-align: right;\">\n",
       "      <th></th>\n",
       "      <th>movie_id</th>\n",
       "      <th>title</th>\n",
       "      <th>genres</th>\n",
       "    </tr>\n",
       "  </thead>\n",
       "  <tbody>\n",
       "    <tr>\n",
       "      <th>0</th>\n",
       "      <td>tt0063540</td>\n",
       "      <td>Sunghursh</td>\n",
       "      <td>Action,Crime,Drama</td>\n",
       "    </tr>\n",
       "    <tr>\n",
       "      <th>1</th>\n",
       "      <td>tt0066787</td>\n",
       "      <td>One Day Before the Rainy Season</td>\n",
       "      <td>Biography,Drama</td>\n",
       "    </tr>\n",
       "    <tr>\n",
       "      <th>2</th>\n",
       "      <td>tt0069049</td>\n",
       "      <td>The Other Side of the Wind</td>\n",
       "      <td>Drama</td>\n",
       "    </tr>\n",
       "    <tr>\n",
       "      <th>3</th>\n",
       "      <td>tt0069204</td>\n",
       "      <td>Sabse Bada Sukh</td>\n",
       "      <td>Comedy,Drama</td>\n",
       "    </tr>\n",
       "    <tr>\n",
       "      <th>4</th>\n",
       "      <td>tt0100275</td>\n",
       "      <td>The Wandering Soap Opera</td>\n",
       "      <td>Comedy,Drama,Fantasy</td>\n",
       "    </tr>\n",
       "    <tr>\n",
       "      <th>...</th>\n",
       "      <td>...</td>\n",
       "      <td>...</td>\n",
       "      <td>...</td>\n",
       "    </tr>\n",
       "    <tr>\n",
       "      <th>146139</th>\n",
       "      <td>tt9916538</td>\n",
       "      <td>Kuambil Lagi Hatiku</td>\n",
       "      <td>Drama</td>\n",
       "    </tr>\n",
       "    <tr>\n",
       "      <th>146140</th>\n",
       "      <td>tt9916622</td>\n",
       "      <td>Rodolpho Teóphilo - O Legado de um Pioneiro</td>\n",
       "      <td>Documentary</td>\n",
       "    </tr>\n",
       "    <tr>\n",
       "      <th>146141</th>\n",
       "      <td>tt9916706</td>\n",
       "      <td>Dankyavar Danka</td>\n",
       "      <td>Comedy</td>\n",
       "    </tr>\n",
       "    <tr>\n",
       "      <th>146142</th>\n",
       "      <td>tt9916730</td>\n",
       "      <td>6 Gunn</td>\n",
       "      <td>None</td>\n",
       "    </tr>\n",
       "    <tr>\n",
       "      <th>146143</th>\n",
       "      <td>tt9916754</td>\n",
       "      <td>Chico Albuquerque - Revelações</td>\n",
       "      <td>Documentary</td>\n",
       "    </tr>\n",
       "  </tbody>\n",
       "</table>\n",
       "<p>146144 rows × 3 columns</p>\n",
       "</div>"
      ],
      "text/plain": [
       "         movie_id                                        title  \\\n",
       "0       tt0063540                                    Sunghursh   \n",
       "1       tt0066787              One Day Before the Rainy Season   \n",
       "2       tt0069049                   The Other Side of the Wind   \n",
       "3       tt0069204                              Sabse Bada Sukh   \n",
       "4       tt0100275                     The Wandering Soap Opera   \n",
       "...           ...                                          ...   \n",
       "146139  tt9916538                          Kuambil Lagi Hatiku   \n",
       "146140  tt9916622  Rodolpho Teóphilo - O Legado de um Pioneiro   \n",
       "146141  tt9916706                              Dankyavar Danka   \n",
       "146142  tt9916730                                       6 Gunn   \n",
       "146143  tt9916754               Chico Albuquerque - Revelações   \n",
       "\n",
       "                      genres  \n",
       "0         Action,Crime,Drama  \n",
       "1            Biography,Drama  \n",
       "2                      Drama  \n",
       "3               Comedy,Drama  \n",
       "4       Comedy,Drama,Fantasy  \n",
       "...                      ...  \n",
       "146139                 Drama  \n",
       "146140           Documentary  \n",
       "146141                Comedy  \n",
       "146142                  None  \n",
       "146143           Documentary  \n",
       "\n",
       "[146144 rows x 3 columns]"
      ]
     },
     "execution_count": 17,
     "metadata": {},
     "output_type": "execute_result"
    }
   ],
   "source": [
    "# get a dataframe with relevant info from the movie_basics table\n",
    "movie_basics = pd.read_sql(\"\"\"SELECT movie_id,\n",
    "                                     primary_title as title,\n",
    "                                     genres\n",
    "                              FROM movie_basics;\n",
    "                           \"\"\", conn)\n",
    "movie_basics"
   ]
  },
  {
   "cell_type": "code",
   "execution_count": 18,
   "metadata": {
    "scrolled": true
   },
   "outputs": [
    {
     "data": {
      "text/html": [
       "<div>\n",
       "<style scoped>\n",
       "    .dataframe tbody tr th:only-of-type {\n",
       "        vertical-align: middle;\n",
       "    }\n",
       "\n",
       "    .dataframe tbody tr th {\n",
       "        vertical-align: top;\n",
       "    }\n",
       "\n",
       "    .dataframe thead th {\n",
       "        text-align: right;\n",
       "    }\n",
       "</style>\n",
       "<table border=\"1\" class=\"dataframe\">\n",
       "  <thead>\n",
       "    <tr style=\"text-align: right;\">\n",
       "      <th></th>\n",
       "      <th>title</th>\n",
       "      <th>domestic_gross</th>\n",
       "      <th>foreign_gross</th>\n",
       "      <th>year</th>\n",
       "      <th>total_gross</th>\n",
       "      <th>movie_id</th>\n",
       "      <th>genres</th>\n",
       "    </tr>\n",
       "  </thead>\n",
       "  <tbody>\n",
       "    <tr>\n",
       "      <th>0</th>\n",
       "      <td>Toy Story 3</td>\n",
       "      <td>415000000.0</td>\n",
       "      <td>652000000.0</td>\n",
       "      <td>2010</td>\n",
       "      <td>1.067000e+09</td>\n",
       "      <td>tt0435761</td>\n",
       "      <td>Adventure,Animation,Comedy</td>\n",
       "    </tr>\n",
       "    <tr>\n",
       "      <th>1</th>\n",
       "      <td>Inception</td>\n",
       "      <td>292600000.0</td>\n",
       "      <td>535700000.0</td>\n",
       "      <td>2010</td>\n",
       "      <td>8.283000e+08</td>\n",
       "      <td>tt1375666</td>\n",
       "      <td>Action,Adventure,Sci-Fi</td>\n",
       "    </tr>\n",
       "    <tr>\n",
       "      <th>2</th>\n",
       "      <td>Shrek Forever After</td>\n",
       "      <td>238700000.0</td>\n",
       "      <td>513900000.0</td>\n",
       "      <td>2010</td>\n",
       "      <td>7.526000e+08</td>\n",
       "      <td>tt0892791</td>\n",
       "      <td>Adventure,Animation,Comedy</td>\n",
       "    </tr>\n",
       "    <tr>\n",
       "      <th>3</th>\n",
       "      <td>The Twilight Saga: Eclipse</td>\n",
       "      <td>300500000.0</td>\n",
       "      <td>398000000.0</td>\n",
       "      <td>2010</td>\n",
       "      <td>6.985000e+08</td>\n",
       "      <td>tt1325004</td>\n",
       "      <td>Adventure,Drama,Fantasy</td>\n",
       "    </tr>\n",
       "    <tr>\n",
       "      <th>4</th>\n",
       "      <td>Iron Man 2</td>\n",
       "      <td>312400000.0</td>\n",
       "      <td>311500000.0</td>\n",
       "      <td>2010</td>\n",
       "      <td>6.239000e+08</td>\n",
       "      <td>tt1228705</td>\n",
       "      <td>Action,Adventure,Sci-Fi</td>\n",
       "    </tr>\n",
       "    <tr>\n",
       "      <th>...</th>\n",
       "      <td>...</td>\n",
       "      <td>...</td>\n",
       "      <td>...</td>\n",
       "      <td>...</td>\n",
       "      <td>...</td>\n",
       "      <td>...</td>\n",
       "      <td>...</td>\n",
       "    </tr>\n",
       "    <tr>\n",
       "      <th>3361</th>\n",
       "      <td>Souvenir</td>\n",
       "      <td>11400.0</td>\n",
       "      <td>0.0</td>\n",
       "      <td>2018</td>\n",
       "      <td>1.140000e+04</td>\n",
       "      <td>tt2389092</td>\n",
       "      <td>Comedy,Romance</td>\n",
       "    </tr>\n",
       "    <tr>\n",
       "      <th>3362</th>\n",
       "      <td>Souvenir</td>\n",
       "      <td>11400.0</td>\n",
       "      <td>0.0</td>\n",
       "      <td>2018</td>\n",
       "      <td>1.140000e+04</td>\n",
       "      <td>tt3478898</td>\n",
       "      <td>Documentary</td>\n",
       "    </tr>\n",
       "    <tr>\n",
       "      <th>3363</th>\n",
       "      <td>Beauty and the Dogs</td>\n",
       "      <td>8900.0</td>\n",
       "      <td>0.0</td>\n",
       "      <td>2018</td>\n",
       "      <td>8.900000e+03</td>\n",
       "      <td>tt6776572</td>\n",
       "      <td>Crime,Drama,Thriller</td>\n",
       "    </tr>\n",
       "    <tr>\n",
       "      <th>3364</th>\n",
       "      <td>The Quake</td>\n",
       "      <td>6200.0</td>\n",
       "      <td>0.0</td>\n",
       "      <td>2018</td>\n",
       "      <td>6.200000e+03</td>\n",
       "      <td>tt6523720</td>\n",
       "      <td>Action,Drama,Thriller</td>\n",
       "    </tr>\n",
       "    <tr>\n",
       "      <th>3365</th>\n",
       "      <td>An Actor Prepares</td>\n",
       "      <td>1700.0</td>\n",
       "      <td>0.0</td>\n",
       "      <td>2018</td>\n",
       "      <td>1.700000e+03</td>\n",
       "      <td>tt5718046</td>\n",
       "      <td>Comedy</td>\n",
       "    </tr>\n",
       "  </tbody>\n",
       "</table>\n",
       "<p>3366 rows × 7 columns</p>\n",
       "</div>"
      ],
      "text/plain": [
       "                           title  domestic_gross  foreign_gross  year  \\\n",
       "0                    Toy Story 3     415000000.0    652000000.0  2010   \n",
       "1                      Inception     292600000.0    535700000.0  2010   \n",
       "2            Shrek Forever After     238700000.0    513900000.0  2010   \n",
       "3     The Twilight Saga: Eclipse     300500000.0    398000000.0  2010   \n",
       "4                     Iron Man 2     312400000.0    311500000.0  2010   \n",
       "...                          ...             ...            ...   ...   \n",
       "3361                    Souvenir         11400.0            0.0  2018   \n",
       "3362                    Souvenir         11400.0            0.0  2018   \n",
       "3363         Beauty and the Dogs          8900.0            0.0  2018   \n",
       "3364                   The Quake          6200.0            0.0  2018   \n",
       "3365           An Actor Prepares          1700.0            0.0  2018   \n",
       "\n",
       "       total_gross   movie_id                      genres  \n",
       "0     1.067000e+09  tt0435761  Adventure,Animation,Comedy  \n",
       "1     8.283000e+08  tt1375666     Action,Adventure,Sci-Fi  \n",
       "2     7.526000e+08  tt0892791  Adventure,Animation,Comedy  \n",
       "3     6.985000e+08  tt1325004     Adventure,Drama,Fantasy  \n",
       "4     6.239000e+08  tt1228705     Action,Adventure,Sci-Fi  \n",
       "...            ...        ...                         ...  \n",
       "3361  1.140000e+04  tt2389092              Comedy,Romance  \n",
       "3362  1.140000e+04  tt3478898                 Documentary  \n",
       "3363  8.900000e+03  tt6776572        Crime,Drama,Thriller  \n",
       "3364  6.200000e+03  tt6523720       Action,Drama,Thriller  \n",
       "3365  1.700000e+03  tt5718046                      Comedy  \n",
       "\n",
       "[3366 rows x 7 columns]"
      ]
     },
     "execution_count": 18,
     "metadata": {},
     "output_type": "execute_result"
    }
   ],
   "source": [
    "# add the info from movie_basics table to a dataframe with revenue info\n",
    "# use inner join because I can't learn anything for a movie without an ID or without any info about profit it earned\n",
    "bom_basics = bom.merge(movie_basics, 'inner')\n",
    "bom_basics"
   ]
  },
  {
   "cell_type": "code",
   "execution_count": 19,
   "metadata": {},
   "outputs": [
    {
     "data": {
      "text/html": [
       "<div>\n",
       "<style scoped>\n",
       "    .dataframe tbody tr th:only-of-type {\n",
       "        vertical-align: middle;\n",
       "    }\n",
       "\n",
       "    .dataframe tbody tr th {\n",
       "        vertical-align: top;\n",
       "    }\n",
       "\n",
       "    .dataframe thead th {\n",
       "        text-align: right;\n",
       "    }\n",
       "</style>\n",
       "<table border=\"1\" class=\"dataframe\">\n",
       "  <thead>\n",
       "    <tr style=\"text-align: right;\">\n",
       "      <th></th>\n",
       "      <th>movie_id</th>\n",
       "      <th>language</th>\n",
       "    </tr>\n",
       "  </thead>\n",
       "  <tbody>\n",
       "    <tr>\n",
       "      <th>0</th>\n",
       "      <td>tt0369610</td>\n",
       "      <td>bg</td>\n",
       "    </tr>\n",
       "    <tr>\n",
       "      <th>1</th>\n",
       "      <td>tt0369610</td>\n",
       "      <td>None</td>\n",
       "    </tr>\n",
       "    <tr>\n",
       "      <th>2</th>\n",
       "      <td>tt0369610</td>\n",
       "      <td>None</td>\n",
       "    </tr>\n",
       "    <tr>\n",
       "      <th>3</th>\n",
       "      <td>tt0369610</td>\n",
       "      <td>None</td>\n",
       "    </tr>\n",
       "    <tr>\n",
       "      <th>4</th>\n",
       "      <td>tt0369610</td>\n",
       "      <td>None</td>\n",
       "    </tr>\n",
       "    <tr>\n",
       "      <th>...</th>\n",
       "      <td>...</td>\n",
       "      <td>...</td>\n",
       "    </tr>\n",
       "    <tr>\n",
       "      <th>331698</th>\n",
       "      <td>tt9827784</td>\n",
       "      <td>None</td>\n",
       "    </tr>\n",
       "    <tr>\n",
       "      <th>331699</th>\n",
       "      <td>tt9827784</td>\n",
       "      <td>en</td>\n",
       "    </tr>\n",
       "    <tr>\n",
       "      <th>331700</th>\n",
       "      <td>tt9880178</td>\n",
       "      <td>None</td>\n",
       "    </tr>\n",
       "    <tr>\n",
       "      <th>331701</th>\n",
       "      <td>tt9880178</td>\n",
       "      <td>None</td>\n",
       "    </tr>\n",
       "    <tr>\n",
       "      <th>331702</th>\n",
       "      <td>tt9880178</td>\n",
       "      <td>en</td>\n",
       "    </tr>\n",
       "  </tbody>\n",
       "</table>\n",
       "<p>331703 rows × 2 columns</p>\n",
       "</div>"
      ],
      "text/plain": [
       "         movie_id language\n",
       "0       tt0369610       bg\n",
       "1       tt0369610     None\n",
       "2       tt0369610     None\n",
       "3       tt0369610     None\n",
       "4       tt0369610     None\n",
       "...           ...      ...\n",
       "331698  tt9827784     None\n",
       "331699  tt9827784       en\n",
       "331700  tt9880178     None\n",
       "331701  tt9880178     None\n",
       "331702  tt9880178       en\n",
       "\n",
       "[331703 rows x 2 columns]"
      ]
     },
     "execution_count": 19,
     "metadata": {},
     "output_type": "execute_result"
    }
   ],
   "source": [
    "# create a dataframe with language info\n",
    "language = pd.read_sql(\"\"\"SELECT movie_id,\n",
    "                                 language\n",
    "                       FROM movie_akas;\n",
    "                    \"\"\", conn)\n",
    "language"
   ]
  },
  {
   "cell_type": "code",
   "execution_count": 20,
   "metadata": {},
   "outputs": [
    {
     "data": {
      "text/plain": [
       "False    122302\n",
       "True      36915\n",
       "Name: movie_id, dtype: int64"
      ]
     },
     "execution_count": 20,
     "metadata": {},
     "output_type": "execute_result"
    }
   ],
   "source": [
    "# remove duplicate rows\n",
    "language = language.drop_duplicates()\n",
    "language.reset_index(drop=True, inplace=True)\n",
    "language['movie_id'].duplicated().value_counts()"
   ]
  },
  {
   "cell_type": "code",
   "execution_count": 21,
   "metadata": {},
   "outputs": [
    {
     "name": "stderr",
     "output_type": "stream",
     "text": [
      "<ipython-input-21-d9c6ae2769da>:2: SettingWithCopyWarning: \n",
      "A value is trying to be set on a copy of a slice from a DataFrame\n",
      "\n",
      "See the caveats in the documentation: https://pandas.pydata.org/pandas-docs/stable/user_guide/indexing.html#returning-a-view-versus-a-copy\n",
      "  language.dropna(inplace=True)\n"
     ]
    }
   ],
   "source": [
    "# remove rows without a given language\n",
    "language.dropna(inplace=True)\n",
    "language.reset_index(drop=True, inplace=True)"
   ]
  },
  {
   "cell_type": "code",
   "execution_count": 22,
   "metadata": {},
   "outputs": [],
   "source": [
    "# add languages dataframe to the general dataframe\n",
    "bom_basics_lang = bom_basics.merge(language, how = 'left', on= 'movie_id' )"
   ]
  },
  {
   "cell_type": "code",
   "execution_count": 23,
   "metadata": {},
   "outputs": [
    {
     "data": {
      "text/html": [
       "<div>\n",
       "<style scoped>\n",
       "    .dataframe tbody tr th:only-of-type {\n",
       "        vertical-align: middle;\n",
       "    }\n",
       "\n",
       "    .dataframe tbody tr th {\n",
       "        vertical-align: top;\n",
       "    }\n",
       "\n",
       "    .dataframe thead th {\n",
       "        text-align: right;\n",
       "    }\n",
       "</style>\n",
       "<table border=\"1\" class=\"dataframe\">\n",
       "  <thead>\n",
       "    <tr style=\"text-align: right;\">\n",
       "      <th></th>\n",
       "      <th>movie_id</th>\n",
       "      <th>person_id</th>\n",
       "      <th>job</th>\n",
       "      <th>primary_name</th>\n",
       "      <th>birth_year</th>\n",
       "    </tr>\n",
       "  </thead>\n",
       "  <tbody>\n",
       "    <tr>\n",
       "      <th>0</th>\n",
       "      <td>tt0323808</td>\n",
       "      <td>nm0811056</td>\n",
       "      <td>producer</td>\n",
       "      <td>Peter Snell</td>\n",
       "      <td>1938.0</td>\n",
       "    </tr>\n",
       "    <tr>\n",
       "      <th>1</th>\n",
       "      <td>tt0475290</td>\n",
       "      <td>nm0079677</td>\n",
       "      <td>producer</td>\n",
       "      <td>Tim Bevan</td>\n",
       "      <td>1957.0</td>\n",
       "    </tr>\n",
       "    <tr>\n",
       "      <th>2</th>\n",
       "      <td>tt0475290</td>\n",
       "      <td>nm0271479</td>\n",
       "      <td>producer</td>\n",
       "      <td>Eric Fellner</td>\n",
       "      <td>1959.0</td>\n",
       "    </tr>\n",
       "    <tr>\n",
       "      <th>3</th>\n",
       "      <td>tt0477302</td>\n",
       "      <td>nm0748784</td>\n",
       "      <td>producer</td>\n",
       "      <td>Scott Rudin</td>\n",
       "      <td>1958.0</td>\n",
       "    </tr>\n",
       "    <tr>\n",
       "      <th>4</th>\n",
       "      <td>tt0780548</td>\n",
       "      <td>nm1143429</td>\n",
       "      <td>producer</td>\n",
       "      <td>Corey Large</td>\n",
       "      <td>1975.0</td>\n",
       "    </tr>\n",
       "    <tr>\n",
       "      <th>...</th>\n",
       "      <td>...</td>\n",
       "      <td>...</td>\n",
       "      <td>...</td>\n",
       "      <td>...</td>\n",
       "      <td>...</td>\n",
       "    </tr>\n",
       "    <tr>\n",
       "      <th>15657</th>\n",
       "      <td>tt9266922</td>\n",
       "      <td>nm8310835</td>\n",
       "      <td>producer</td>\n",
       "      <td>Tyson Moultrie</td>\n",
       "      <td>1987.0</td>\n",
       "    </tr>\n",
       "    <tr>\n",
       "      <th>15658</th>\n",
       "      <td>tt9408648</td>\n",
       "      <td>nm1375981</td>\n",
       "      <td>producer</td>\n",
       "      <td>Praveen Nischol</td>\n",
       "      <td>1948.0</td>\n",
       "    </tr>\n",
       "    <tr>\n",
       "      <th>15659</th>\n",
       "      <td>tt9581996</td>\n",
       "      <td>nm2509625</td>\n",
       "      <td>producer</td>\n",
       "      <td>Ernõ Mesterházy</td>\n",
       "      <td>1963.0</td>\n",
       "    </tr>\n",
       "    <tr>\n",
       "      <th>15660</th>\n",
       "      <td>tt9581996</td>\n",
       "      <td>nm0611274</td>\n",
       "      <td>producer</td>\n",
       "      <td>András Muhi</td>\n",
       "      <td>1956.0</td>\n",
       "    </tr>\n",
       "    <tr>\n",
       "      <th>15661</th>\n",
       "      <td>tt9581996</td>\n",
       "      <td>nm2307733</td>\n",
       "      <td>producer</td>\n",
       "      <td>Mónika Mécs</td>\n",
       "      <td>1967.0</td>\n",
       "    </tr>\n",
       "  </tbody>\n",
       "</table>\n",
       "<p>15662 rows × 5 columns</p>\n",
       "</div>"
      ],
      "text/plain": [
       "        movie_id  person_id       job     primary_name  birth_year\n",
       "0      tt0323808  nm0811056  producer      Peter Snell      1938.0\n",
       "1      tt0475290  nm0079677  producer        Tim Bevan      1957.0\n",
       "2      tt0475290  nm0271479  producer     Eric Fellner      1959.0\n",
       "3      tt0477302  nm0748784  producer      Scott Rudin      1958.0\n",
       "4      tt0780548  nm1143429  producer      Corey Large      1975.0\n",
       "...          ...        ...       ...              ...         ...\n",
       "15657  tt9266922  nm8310835  producer   Tyson Moultrie      1987.0\n",
       "15658  tt9408648  nm1375981  producer  Praveen Nischol      1948.0\n",
       "15659  tt9581996  nm2509625  producer  Ernõ Mesterházy      1963.0\n",
       "15660  tt9581996  nm0611274  producer      András Muhi      1956.0\n",
       "15661  tt9581996  nm2307733  producer      Mónika Mécs      1967.0\n",
       "\n",
       "[15662 rows x 5 columns]"
      ]
     },
     "execution_count": 23,
     "metadata": {},
     "output_type": "execute_result"
    }
   ],
   "source": [
    "# create a dataframe with movie producer info; include only producers with a given birth year\n",
    "producers = pd.read_sql(\"\"\"SELECT movie_id,\n",
    "                                   person_id,\n",
    "                                   job,\n",
    "                                   primary_name,\n",
    "                                   birth_year\n",
    "                            FROM principals\n",
    "                            JOIN persons\n",
    "                                USING(person_id)\n",
    "                            WHERE job IS 'producer' AND birth_year IS NOT NULL;\n",
    "                            \"\"\", conn)\n",
    "\n",
    "producers"
   ]
  },
  {
   "cell_type": "code",
   "execution_count": 24,
   "metadata": {},
   "outputs": [
    {
     "data": {
      "text/html": [
       "<div>\n",
       "<style scoped>\n",
       "    .dataframe tbody tr th:only-of-type {\n",
       "        vertical-align: middle;\n",
       "    }\n",
       "\n",
       "    .dataframe tbody tr th {\n",
       "        vertical-align: top;\n",
       "    }\n",
       "\n",
       "    .dataframe thead th {\n",
       "        text-align: right;\n",
       "    }\n",
       "</style>\n",
       "<table border=\"1\" class=\"dataframe\">\n",
       "  <thead>\n",
       "    <tr style=\"text-align: right;\">\n",
       "      <th></th>\n",
       "      <th>title</th>\n",
       "      <th>domestic_gross</th>\n",
       "      <th>foreign_gross</th>\n",
       "      <th>year</th>\n",
       "      <th>total_gross</th>\n",
       "      <th>movie_id</th>\n",
       "      <th>genres</th>\n",
       "      <th>language</th>\n",
       "      <th>primary_name</th>\n",
       "      <th>birth_year</th>\n",
       "    </tr>\n",
       "  </thead>\n",
       "  <tbody>\n",
       "    <tr>\n",
       "      <th>0</th>\n",
       "      <td>Toy Story 3</td>\n",
       "      <td>415000000.0</td>\n",
       "      <td>652000000.0</td>\n",
       "      <td>2010</td>\n",
       "      <td>1.067000e+09</td>\n",
       "      <td>tt0435761</td>\n",
       "      <td>Adventure,Animation,Comedy</td>\n",
       "      <td>tr</td>\n",
       "      <td>NaN</td>\n",
       "      <td>NaN</td>\n",
       "    </tr>\n",
       "    <tr>\n",
       "      <th>1</th>\n",
       "      <td>Toy Story 3</td>\n",
       "      <td>415000000.0</td>\n",
       "      <td>652000000.0</td>\n",
       "      <td>2010</td>\n",
       "      <td>1.067000e+09</td>\n",
       "      <td>tt0435761</td>\n",
       "      <td>Adventure,Animation,Comedy</td>\n",
       "      <td>cmn</td>\n",
       "      <td>NaN</td>\n",
       "      <td>NaN</td>\n",
       "    </tr>\n",
       "    <tr>\n",
       "      <th>2</th>\n",
       "      <td>Toy Story 3</td>\n",
       "      <td>415000000.0</td>\n",
       "      <td>652000000.0</td>\n",
       "      <td>2010</td>\n",
       "      <td>1.067000e+09</td>\n",
       "      <td>tt0435761</td>\n",
       "      <td>Adventure,Animation,Comedy</td>\n",
       "      <td>en</td>\n",
       "      <td>NaN</td>\n",
       "      <td>NaN</td>\n",
       "    </tr>\n",
       "    <tr>\n",
       "      <th>3</th>\n",
       "      <td>Toy Story 3</td>\n",
       "      <td>415000000.0</td>\n",
       "      <td>652000000.0</td>\n",
       "      <td>2010</td>\n",
       "      <td>1.067000e+09</td>\n",
       "      <td>tt0435761</td>\n",
       "      <td>Adventure,Animation,Comedy</td>\n",
       "      <td>bg</td>\n",
       "      <td>NaN</td>\n",
       "      <td>NaN</td>\n",
       "    </tr>\n",
       "    <tr>\n",
       "      <th>4</th>\n",
       "      <td>Toy Story 3</td>\n",
       "      <td>415000000.0</td>\n",
       "      <td>652000000.0</td>\n",
       "      <td>2010</td>\n",
       "      <td>1.067000e+09</td>\n",
       "      <td>tt0435761</td>\n",
       "      <td>Adventure,Animation,Comedy</td>\n",
       "      <td>fa</td>\n",
       "      <td>NaN</td>\n",
       "      <td>NaN</td>\n",
       "    </tr>\n",
       "    <tr>\n",
       "      <th>...</th>\n",
       "      <td>...</td>\n",
       "      <td>...</td>\n",
       "      <td>...</td>\n",
       "      <td>...</td>\n",
       "      <td>...</td>\n",
       "      <td>...</td>\n",
       "      <td>...</td>\n",
       "      <td>...</td>\n",
       "      <td>...</td>\n",
       "      <td>...</td>\n",
       "    </tr>\n",
       "    <tr>\n",
       "      <th>10132</th>\n",
       "      <td>Beauty and the Dogs</td>\n",
       "      <td>8900.0</td>\n",
       "      <td>0.0</td>\n",
       "      <td>2018</td>\n",
       "      <td>8.900000e+03</td>\n",
       "      <td>tt6776572</td>\n",
       "      <td>Crime,Drama,Thriller</td>\n",
       "      <td>en</td>\n",
       "      <td>NaN</td>\n",
       "      <td>NaN</td>\n",
       "    </tr>\n",
       "    <tr>\n",
       "      <th>10133</th>\n",
       "      <td>The Quake</td>\n",
       "      <td>6200.0</td>\n",
       "      <td>0.0</td>\n",
       "      <td>2018</td>\n",
       "      <td>6.200000e+03</td>\n",
       "      <td>tt6523720</td>\n",
       "      <td>Action,Drama,Thriller</td>\n",
       "      <td>bg</td>\n",
       "      <td>NaN</td>\n",
       "      <td>NaN</td>\n",
       "    </tr>\n",
       "    <tr>\n",
       "      <th>10134</th>\n",
       "      <td>The Quake</td>\n",
       "      <td>6200.0</td>\n",
       "      <td>0.0</td>\n",
       "      <td>2018</td>\n",
       "      <td>6.200000e+03</td>\n",
       "      <td>tt6523720</td>\n",
       "      <td>Action,Drama,Thriller</td>\n",
       "      <td>en</td>\n",
       "      <td>NaN</td>\n",
       "      <td>NaN</td>\n",
       "    </tr>\n",
       "    <tr>\n",
       "      <th>10135</th>\n",
       "      <td>An Actor Prepares</td>\n",
       "      <td>1700.0</td>\n",
       "      <td>0.0</td>\n",
       "      <td>2018</td>\n",
       "      <td>1.700000e+03</td>\n",
       "      <td>tt5718046</td>\n",
       "      <td>Comedy</td>\n",
       "      <td>en</td>\n",
       "      <td>Will Rowbotham</td>\n",
       "      <td>1977.0</td>\n",
       "    </tr>\n",
       "    <tr>\n",
       "      <th>10136</th>\n",
       "      <td>An Actor Prepares</td>\n",
       "      <td>1700.0</td>\n",
       "      <td>0.0</td>\n",
       "      <td>2018</td>\n",
       "      <td>1.700000e+03</td>\n",
       "      <td>tt5718046</td>\n",
       "      <td>Comedy</td>\n",
       "      <td>en</td>\n",
       "      <td>David M. Rosenthal</td>\n",
       "      <td>1969.0</td>\n",
       "    </tr>\n",
       "  </tbody>\n",
       "</table>\n",
       "<p>10137 rows × 10 columns</p>\n",
       "</div>"
      ],
      "text/plain": [
       "                     title  domestic_gross  foreign_gross  year   total_gross  \\\n",
       "0              Toy Story 3     415000000.0    652000000.0  2010  1.067000e+09   \n",
       "1              Toy Story 3     415000000.0    652000000.0  2010  1.067000e+09   \n",
       "2              Toy Story 3     415000000.0    652000000.0  2010  1.067000e+09   \n",
       "3              Toy Story 3     415000000.0    652000000.0  2010  1.067000e+09   \n",
       "4              Toy Story 3     415000000.0    652000000.0  2010  1.067000e+09   \n",
       "...                    ...             ...            ...   ...           ...   \n",
       "10132  Beauty and the Dogs          8900.0            0.0  2018  8.900000e+03   \n",
       "10133            The Quake          6200.0            0.0  2018  6.200000e+03   \n",
       "10134            The Quake          6200.0            0.0  2018  6.200000e+03   \n",
       "10135    An Actor Prepares          1700.0            0.0  2018  1.700000e+03   \n",
       "10136    An Actor Prepares          1700.0            0.0  2018  1.700000e+03   \n",
       "\n",
       "        movie_id                      genres language        primary_name  \\\n",
       "0      tt0435761  Adventure,Animation,Comedy       tr                 NaN   \n",
       "1      tt0435761  Adventure,Animation,Comedy      cmn                 NaN   \n",
       "2      tt0435761  Adventure,Animation,Comedy       en                 NaN   \n",
       "3      tt0435761  Adventure,Animation,Comedy       bg                 NaN   \n",
       "4      tt0435761  Adventure,Animation,Comedy       fa                 NaN   \n",
       "...          ...                         ...      ...                 ...   \n",
       "10132  tt6776572        Crime,Drama,Thriller       en                 NaN   \n",
       "10133  tt6523720       Action,Drama,Thriller       bg                 NaN   \n",
       "10134  tt6523720       Action,Drama,Thriller       en                 NaN   \n",
       "10135  tt5718046                      Comedy       en      Will Rowbotham   \n",
       "10136  tt5718046                      Comedy       en  David M. Rosenthal   \n",
       "\n",
       "       birth_year  \n",
       "0             NaN  \n",
       "1             NaN  \n",
       "2             NaN  \n",
       "3             NaN  \n",
       "4             NaN  \n",
       "...           ...  \n",
       "10132         NaN  \n",
       "10133         NaN  \n",
       "10134         NaN  \n",
       "10135      1977.0  \n",
       "10136      1969.0  \n",
       "\n",
       "[10137 rows x 10 columns]"
      ]
     },
     "execution_count": 24,
     "metadata": {},
     "output_type": "execute_result"
    }
   ],
   "source": [
    "# add producer info to bom_basics_lang dataframe\n",
    "bom_basics_lang_prod = bom_basics_lang.merge(producers[['movie_id','primary_name','birth_year']], how = 'left', on='movie_id' )\n",
    "bom_basics_lang_prod"
   ]
  },
  {
   "cell_type": "code",
   "execution_count": 25,
   "metadata": {},
   "outputs": [],
   "source": [
    "# create column 'producer_age' by subtracting 'birth_year' from movie 'year' \n",
    "bom_basics_lang_prod['producer_age'] = bom_basics_lang_prod['year'] - bom_basics_lang_prod['birth_year']"
   ]
  },
  {
   "cell_type": "code",
   "execution_count": 26,
   "metadata": {},
   "outputs": [],
   "source": [
    "# change 'primary_name' title to 'producer'\n",
    "bom_basics_lang_prod.rename(columns={'primary_name' : 'producer'}, inplace=True)"
   ]
  },
  {
   "cell_type": "markdown",
   "metadata": {},
   "source": [
    "A complete 'master' dataframe, 'bom_basics_lang_prod', is now assembled. This dataframe, with information on movie earnings, release year, language & producers, contains all of the necesarry data for my analysis. Before starting the analysis, I check for null values in each of the most relevant columns to get a sense of what I need to exclude for each of my investigations."
   ]
  },
  {
   "cell_type": "code",
   "execution_count": 27,
   "metadata": {},
   "outputs": [
    {
     "data": {
      "text/plain": [
       "False    10097\n",
       "True        40\n",
       "Name: genres, dtype: int64"
      ]
     },
     "execution_count": 27,
     "metadata": {},
     "output_type": "execute_result"
    }
   ],
   "source": [
    "# check movie_basics_lang_prod 'genres' column for null values\n",
    "bom_basics_lang_prod['genres'].isna().value_counts()"
   ]
  },
  {
   "cell_type": "code",
   "execution_count": 28,
   "metadata": {},
   "outputs": [
    {
     "data": {
      "text/plain": [
       "False    9165\n",
       "True      972\n",
       "Name: language, dtype: int64"
      ]
     },
     "execution_count": 28,
     "metadata": {},
     "output_type": "execute_result"
    }
   ],
   "source": [
    "# check movie_basics_lang_prod 'language' column for null values\n",
    "bom_basics_lang_prod['language'].isna().value_counts()"
   ]
  },
  {
   "cell_type": "code",
   "execution_count": 29,
   "metadata": {},
   "outputs": [
    {
     "data": {
      "text/plain": [
       "False    5476\n",
       "True     4661\n",
       "Name: birth_year, dtype: int64"
      ]
     },
     "execution_count": 29,
     "metadata": {},
     "output_type": "execute_result"
    }
   ],
   "source": [
    "# check movie_basics_lang_prod 'birth_year' column for null values\n",
    "bom_basics_lang_prod['birth_year'].isna().value_counts()"
   ]
  },
  {
   "cell_type": "markdown",
   "metadata": {},
   "source": [
    "For now I will leave null values in all columns in place but I may need to remove one or another later (such as when analyzing the apparent relationship of a movie's genre & its profitability; I can learn nothing without knowing the movie in question's genre)."
   ]
  },
  {
   "cell_type": "code",
   "execution_count": 30,
   "metadata": {},
   "outputs": [
    {
     "data": {
      "text/html": [
       "<div>\n",
       "<style scoped>\n",
       "    .dataframe tbody tr th:only-of-type {\n",
       "        vertical-align: middle;\n",
       "    }\n",
       "\n",
       "    .dataframe tbody tr th {\n",
       "        vertical-align: top;\n",
       "    }\n",
       "\n",
       "    .dataframe thead th {\n",
       "        text-align: right;\n",
       "    }\n",
       "</style>\n",
       "<table border=\"1\" class=\"dataframe\">\n",
       "  <thead>\n",
       "    <tr style=\"text-align: right;\">\n",
       "      <th></th>\n",
       "      <th>movie_id</th>\n",
       "      <th>title</th>\n",
       "      <th>year</th>\n",
       "      <th>domestic_gross</th>\n",
       "      <th>foreign_gross</th>\n",
       "      <th>total_gross</th>\n",
       "      <th>genres</th>\n",
       "      <th>language</th>\n",
       "      <th>producer</th>\n",
       "      <th>birth_year</th>\n",
       "      <th>producer_age</th>\n",
       "    </tr>\n",
       "  </thead>\n",
       "  <tbody>\n",
       "    <tr>\n",
       "      <th>0</th>\n",
       "      <td>tt0435761</td>\n",
       "      <td>Toy Story 3</td>\n",
       "      <td>2010</td>\n",
       "      <td>415000000.0</td>\n",
       "      <td>652000000.0</td>\n",
       "      <td>1.067000e+09</td>\n",
       "      <td>Adventure,Animation,Comedy</td>\n",
       "      <td>tr</td>\n",
       "      <td>NaN</td>\n",
       "      <td>NaN</td>\n",
       "      <td>NaN</td>\n",
       "    </tr>\n",
       "    <tr>\n",
       "      <th>1</th>\n",
       "      <td>tt0435761</td>\n",
       "      <td>Toy Story 3</td>\n",
       "      <td>2010</td>\n",
       "      <td>415000000.0</td>\n",
       "      <td>652000000.0</td>\n",
       "      <td>1.067000e+09</td>\n",
       "      <td>Adventure,Animation,Comedy</td>\n",
       "      <td>cmn</td>\n",
       "      <td>NaN</td>\n",
       "      <td>NaN</td>\n",
       "      <td>NaN</td>\n",
       "    </tr>\n",
       "    <tr>\n",
       "      <th>2</th>\n",
       "      <td>tt0435761</td>\n",
       "      <td>Toy Story 3</td>\n",
       "      <td>2010</td>\n",
       "      <td>415000000.0</td>\n",
       "      <td>652000000.0</td>\n",
       "      <td>1.067000e+09</td>\n",
       "      <td>Adventure,Animation,Comedy</td>\n",
       "      <td>en</td>\n",
       "      <td>NaN</td>\n",
       "      <td>NaN</td>\n",
       "      <td>NaN</td>\n",
       "    </tr>\n",
       "    <tr>\n",
       "      <th>3</th>\n",
       "      <td>tt0435761</td>\n",
       "      <td>Toy Story 3</td>\n",
       "      <td>2010</td>\n",
       "      <td>415000000.0</td>\n",
       "      <td>652000000.0</td>\n",
       "      <td>1.067000e+09</td>\n",
       "      <td>Adventure,Animation,Comedy</td>\n",
       "      <td>bg</td>\n",
       "      <td>NaN</td>\n",
       "      <td>NaN</td>\n",
       "      <td>NaN</td>\n",
       "    </tr>\n",
       "    <tr>\n",
       "      <th>4</th>\n",
       "      <td>tt0435761</td>\n",
       "      <td>Toy Story 3</td>\n",
       "      <td>2010</td>\n",
       "      <td>415000000.0</td>\n",
       "      <td>652000000.0</td>\n",
       "      <td>1.067000e+09</td>\n",
       "      <td>Adventure,Animation,Comedy</td>\n",
       "      <td>fa</td>\n",
       "      <td>NaN</td>\n",
       "      <td>NaN</td>\n",
       "      <td>NaN</td>\n",
       "    </tr>\n",
       "    <tr>\n",
       "      <th>...</th>\n",
       "      <td>...</td>\n",
       "      <td>...</td>\n",
       "      <td>...</td>\n",
       "      <td>...</td>\n",
       "      <td>...</td>\n",
       "      <td>...</td>\n",
       "      <td>...</td>\n",
       "      <td>...</td>\n",
       "      <td>...</td>\n",
       "      <td>...</td>\n",
       "      <td>...</td>\n",
       "    </tr>\n",
       "    <tr>\n",
       "      <th>10132</th>\n",
       "      <td>tt6776572</td>\n",
       "      <td>Beauty and the Dogs</td>\n",
       "      <td>2018</td>\n",
       "      <td>8900.0</td>\n",
       "      <td>0.0</td>\n",
       "      <td>8.900000e+03</td>\n",
       "      <td>Crime,Drama,Thriller</td>\n",
       "      <td>en</td>\n",
       "      <td>NaN</td>\n",
       "      <td>NaN</td>\n",
       "      <td>NaN</td>\n",
       "    </tr>\n",
       "    <tr>\n",
       "      <th>10133</th>\n",
       "      <td>tt6523720</td>\n",
       "      <td>The Quake</td>\n",
       "      <td>2018</td>\n",
       "      <td>6200.0</td>\n",
       "      <td>0.0</td>\n",
       "      <td>6.200000e+03</td>\n",
       "      <td>Action,Drama,Thriller</td>\n",
       "      <td>bg</td>\n",
       "      <td>NaN</td>\n",
       "      <td>NaN</td>\n",
       "      <td>NaN</td>\n",
       "    </tr>\n",
       "    <tr>\n",
       "      <th>10134</th>\n",
       "      <td>tt6523720</td>\n",
       "      <td>The Quake</td>\n",
       "      <td>2018</td>\n",
       "      <td>6200.0</td>\n",
       "      <td>0.0</td>\n",
       "      <td>6.200000e+03</td>\n",
       "      <td>Action,Drama,Thriller</td>\n",
       "      <td>en</td>\n",
       "      <td>NaN</td>\n",
       "      <td>NaN</td>\n",
       "      <td>NaN</td>\n",
       "    </tr>\n",
       "    <tr>\n",
       "      <th>10135</th>\n",
       "      <td>tt5718046</td>\n",
       "      <td>An Actor Prepares</td>\n",
       "      <td>2018</td>\n",
       "      <td>1700.0</td>\n",
       "      <td>0.0</td>\n",
       "      <td>1.700000e+03</td>\n",
       "      <td>Comedy</td>\n",
       "      <td>en</td>\n",
       "      <td>Will Rowbotham</td>\n",
       "      <td>1977.0</td>\n",
       "      <td>41.0</td>\n",
       "    </tr>\n",
       "    <tr>\n",
       "      <th>10136</th>\n",
       "      <td>tt5718046</td>\n",
       "      <td>An Actor Prepares</td>\n",
       "      <td>2018</td>\n",
       "      <td>1700.0</td>\n",
       "      <td>0.0</td>\n",
       "      <td>1.700000e+03</td>\n",
       "      <td>Comedy</td>\n",
       "      <td>en</td>\n",
       "      <td>David M. Rosenthal</td>\n",
       "      <td>1969.0</td>\n",
       "      <td>49.0</td>\n",
       "    </tr>\n",
       "  </tbody>\n",
       "</table>\n",
       "<p>10137 rows × 11 columns</p>\n",
       "</div>"
      ],
      "text/plain": [
       "        movie_id                title  year  domestic_gross  foreign_gross  \\\n",
       "0      tt0435761          Toy Story 3  2010     415000000.0    652000000.0   \n",
       "1      tt0435761          Toy Story 3  2010     415000000.0    652000000.0   \n",
       "2      tt0435761          Toy Story 3  2010     415000000.0    652000000.0   \n",
       "3      tt0435761          Toy Story 3  2010     415000000.0    652000000.0   \n",
       "4      tt0435761          Toy Story 3  2010     415000000.0    652000000.0   \n",
       "...          ...                  ...   ...             ...            ...   \n",
       "10132  tt6776572  Beauty and the Dogs  2018          8900.0            0.0   \n",
       "10133  tt6523720            The Quake  2018          6200.0            0.0   \n",
       "10134  tt6523720            The Quake  2018          6200.0            0.0   \n",
       "10135  tt5718046    An Actor Prepares  2018          1700.0            0.0   \n",
       "10136  tt5718046    An Actor Prepares  2018          1700.0            0.0   \n",
       "\n",
       "        total_gross                      genres language            producer  \\\n",
       "0      1.067000e+09  Adventure,Animation,Comedy       tr                 NaN   \n",
       "1      1.067000e+09  Adventure,Animation,Comedy      cmn                 NaN   \n",
       "2      1.067000e+09  Adventure,Animation,Comedy       en                 NaN   \n",
       "3      1.067000e+09  Adventure,Animation,Comedy       bg                 NaN   \n",
       "4      1.067000e+09  Adventure,Animation,Comedy       fa                 NaN   \n",
       "...             ...                         ...      ...                 ...   \n",
       "10132  8.900000e+03        Crime,Drama,Thriller       en                 NaN   \n",
       "10133  6.200000e+03       Action,Drama,Thriller       bg                 NaN   \n",
       "10134  6.200000e+03       Action,Drama,Thriller       en                 NaN   \n",
       "10135  1.700000e+03                      Comedy       en      Will Rowbotham   \n",
       "10136  1.700000e+03                      Comedy       en  David M. Rosenthal   \n",
       "\n",
       "       birth_year  producer_age  \n",
       "0             NaN           NaN  \n",
       "1             NaN           NaN  \n",
       "2             NaN           NaN  \n",
       "3             NaN           NaN  \n",
       "4             NaN           NaN  \n",
       "...           ...           ...  \n",
       "10132         NaN           NaN  \n",
       "10133         NaN           NaN  \n",
       "10134         NaN           NaN  \n",
       "10135      1977.0          41.0  \n",
       "10136      1969.0          49.0  \n",
       "\n",
       "[10137 rows x 11 columns]"
      ]
     },
     "execution_count": 30,
     "metadata": {},
     "output_type": "execute_result"
    }
   ],
   "source": [
    "# reorder columns for ease of use\n",
    "bom_basics_lang_prod = bom_basics_lang_prod.reindex(columns=['movie_id', 'title', 'year', 'domestic_gross', 'foreign_gross', 'total_gross', 'genres', 'language', 'producer', 'birth_year',\n",
    "       'producer_age'])\n",
    "# preview result\n",
    "bom_basics_lang_prod"
   ]
  },
  {
   "cell_type": "markdown",
   "metadata": {},
   "source": [
    "# Analysis\n",
    "With the dataframe of all of the relevant information assembled, I'll procede to analyze several aspects of the movies.  \n",
    "I will be examinig the available information to answer 3 questions:  \n",
    "* What are the most profitable movie genres?  \n",
    "* Movies in what languages earn the most money?  \n",
    "* Does the number of languages in which a movie is released affect earnings?"
   ]
  },
  {
   "cell_type": "markdown",
   "metadata": {},
   "source": [
    "### Genres & Earnings\n",
    "In this section I will examine the relationship between the particular genre(s) of a movie & its earnings. I will look to identify which genres are the most profitable. "
   ]
  },
  {
   "cell_type": "code",
   "execution_count": 31,
   "metadata": {},
   "outputs": [],
   "source": [
    "genres_df = bom_basics_lang.drop(['domestic_gross', 'foreign_gross', 'language'], axis=1)"
   ]
  },
  {
   "cell_type": "code",
   "execution_count": 32,
   "metadata": {},
   "outputs": [
    {
     "data": {
      "text/plain": [
       "False    8672\n",
       "True       40\n",
       "Name: genres, dtype: int64"
      ]
     },
     "execution_count": 32,
     "metadata": {},
     "output_type": "execute_result"
    }
   ],
   "source": [
    "# check the dataframe for null values\n",
    "genres_df['genres'].isna().value_counts()"
   ]
  },
  {
   "cell_type": "code",
   "execution_count": 33,
   "metadata": {},
   "outputs": [],
   "source": [
    "# create dataframe of rows from genres_df that have null values for genres\n",
    "null_genres = genres_df[genres_df['genres'].isna()]\n",
    "# drop rows in that dataframe from the genres_df dataframe\n",
    "genres_df.drop(axis=0, labels = null_genres.index, inplace=True)"
   ]
  },
  {
   "cell_type": "code",
   "execution_count": 34,
   "metadata": {},
   "outputs": [
    {
     "data": {
      "text/plain": [
       "0       Adventure,Animation,Comedy\n",
       "1       Adventure,Animation,Comedy\n",
       "2       Adventure,Animation,Comedy\n",
       "3       Adventure,Animation,Comedy\n",
       "4       Adventure,Animation,Comedy\n",
       "                   ...            \n",
       "8707                   Documentary\n",
       "8708          Crime,Drama,Thriller\n",
       "8709         Action,Drama,Thriller\n",
       "8710         Action,Drama,Thriller\n",
       "8711                        Comedy\n",
       "Name: genres, Length: 8672, dtype: object"
      ]
     },
     "execution_count": 34,
     "metadata": {},
     "output_type": "execute_result"
    }
   ],
   "source": [
    "# get a view of the genres\n",
    "genres_df['genres']"
   ]
  },
  {
   "cell_type": "markdown",
   "metadata": {},
   "source": [
    "I see that for movies with multiple genres listed, their genres are listed as a single combination genre. I will split those movies into multiple rows, one per genre. "
   ]
  },
  {
   "cell_type": "code",
   "execution_count": 35,
   "metadata": {},
   "outputs": [
    {
     "data": {
      "text/plain": [
       "(8672, 5)"
      ]
     },
     "execution_count": 35,
     "metadata": {},
     "output_type": "execute_result"
    }
   ],
   "source": [
    "# check the number of rows in the genres dataframe\n",
    "genres_df.shape"
   ]
  },
  {
   "cell_type": "code",
   "execution_count": 36,
   "metadata": {},
   "outputs": [],
   "source": [
    "# split each genres string into a list\n",
    "genres_df['genres'] = genres_df['genres'].str.split(',')"
   ]
  },
  {
   "cell_type": "code",
   "execution_count": 37,
   "metadata": {},
   "outputs": [
    {
     "data": {
      "text/plain": [
       "(21163, 5)"
      ]
     },
     "execution_count": 37,
     "metadata": {},
     "output_type": "execute_result"
    }
   ],
   "source": [
    "# create new rows for each item in each genres list\n",
    "genres_df = genres_df.explode('genres')\n",
    "genres_df.reset_index(drop=True, inplace=True)\n",
    "# check the number of rows of the modified dataframe\n",
    "genres_df.shape"
   ]
  },
  {
   "cell_type": "code",
   "execution_count": 38,
   "metadata": {},
   "outputs": [
    {
     "data": {
      "image/png": "[encoded data removed]",
      "text/plain": [
       "<Figure size 432x288 with 1 Axes>"
      ]
     },
     "metadata": {
      "needs_background": "light"
     },
     "output_type": "display_data"
    }
   ],
   "source": [
    "# ensure sufficient data per genre\n",
    "genres_df['genres'].hist()\n",
    "# turn the xtick labels for readability\n",
    "plt.xticks(rotation= 90)\n",
    "# save the plot\n",
    "plt.savefig('images/genres_count_hist');"
   ]
  },
  {
   "cell_type": "markdown",
   "metadata": {},
   "source": [
    "There are relatively few movies for certain genres; I'll drop those genres from my analysis as there is insufficient information to work with."
   ]
  },
  {
   "cell_type": "code",
   "execution_count": 39,
   "metadata": {},
   "outputs": [],
   "source": [
    "# filter genres_df to exclude movies with a genre with less than 250 movies in the dataframe\n",
    "genres_df = genres_df[genres_df.groupby('genres')['genres'].transform('size') >= 250]"
   ]
  },
  {
   "cell_type": "code",
   "execution_count": 40,
   "metadata": {},
   "outputs": [
    {
     "data": {
      "text/html": [
       "<div>\n",
       "<style scoped>\n",
       "    .dataframe tbody tr th:only-of-type {\n",
       "        vertical-align: middle;\n",
       "    }\n",
       "\n",
       "    .dataframe tbody tr th {\n",
       "        vertical-align: top;\n",
       "    }\n",
       "\n",
       "    .dataframe thead th {\n",
       "        text-align: right;\n",
       "    }\n",
       "</style>\n",
       "<table border=\"1\" class=\"dataframe\">\n",
       "  <thead>\n",
       "    <tr style=\"text-align: right;\">\n",
       "      <th></th>\n",
       "      <th>genres</th>\n",
       "      <th>year</th>\n",
       "      <th>total_gross</th>\n",
       "      <th>hund mil</th>\n",
       "    </tr>\n",
       "  </thead>\n",
       "  <tbody>\n",
       "    <tr>\n",
       "      <th>0</th>\n",
       "      <td>Action</td>\n",
       "      <td>2013.965100</td>\n",
       "      <td>2.461619e+08</td>\n",
       "      <td>2.461619</td>\n",
       "    </tr>\n",
       "    <tr>\n",
       "      <th>1</th>\n",
       "      <td>Adventure</td>\n",
       "      <td>2014.194127</td>\n",
       "      <td>3.557658e+08</td>\n",
       "      <td>3.557658</td>\n",
       "    </tr>\n",
       "    <tr>\n",
       "      <th>2</th>\n",
       "      <td>Animation</td>\n",
       "      <td>2014.222390</td>\n",
       "      <td>3.386766e+08</td>\n",
       "      <td>3.386766</td>\n",
       "    </tr>\n",
       "    <tr>\n",
       "      <th>3</th>\n",
       "      <td>Biography</td>\n",
       "      <td>2014.594238</td>\n",
       "      <td>6.856765e+07</td>\n",
       "      <td>0.685677</td>\n",
       "    </tr>\n",
       "    <tr>\n",
       "      <th>4</th>\n",
       "      <td>Comedy</td>\n",
       "      <td>2013.803036</td>\n",
       "      <td>1.310463e+08</td>\n",
       "      <td>1.310463</td>\n",
       "    </tr>\n",
       "    <tr>\n",
       "      <th>5</th>\n",
       "      <td>Crime</td>\n",
       "      <td>2013.889078</td>\n",
       "      <td>6.894319e+07</td>\n",
       "      <td>0.689432</td>\n",
       "    </tr>\n",
       "    <tr>\n",
       "      <th>6</th>\n",
       "      <td>Documentary</td>\n",
       "      <td>2014.072464</td>\n",
       "      <td>2.922057e+07</td>\n",
       "      <td>0.292206</td>\n",
       "    </tr>\n",
       "    <tr>\n",
       "      <th>7</th>\n",
       "      <td>Drama</td>\n",
       "      <td>2014.024559</td>\n",
       "      <td>5.526268e+07</td>\n",
       "      <td>0.552627</td>\n",
       "    </tr>\n",
       "    <tr>\n",
       "      <th>8</th>\n",
       "      <td>Family</td>\n",
       "      <td>2013.403941</td>\n",
       "      <td>1.793349e+08</td>\n",
       "      <td>1.793349</td>\n",
       "    </tr>\n",
       "    <tr>\n",
       "      <th>9</th>\n",
       "      <td>Fantasy</td>\n",
       "      <td>2014.119632</td>\n",
       "      <td>2.324773e+08</td>\n",
       "      <td>2.324773</td>\n",
       "    </tr>\n",
       "    <tr>\n",
       "      <th>10</th>\n",
       "      <td>History</td>\n",
       "      <td>2014.658854</td>\n",
       "      <td>5.942769e+07</td>\n",
       "      <td>0.594277</td>\n",
       "    </tr>\n",
       "    <tr>\n",
       "      <th>11</th>\n",
       "      <td>Horror</td>\n",
       "      <td>2014.085384</td>\n",
       "      <td>8.978475e+07</td>\n",
       "      <td>0.897847</td>\n",
       "    </tr>\n",
       "    <tr>\n",
       "      <th>12</th>\n",
       "      <td>Mystery</td>\n",
       "      <td>2014.000000</td>\n",
       "      <td>8.499366e+07</td>\n",
       "      <td>0.849937</td>\n",
       "    </tr>\n",
       "    <tr>\n",
       "      <th>13</th>\n",
       "      <td>Romance</td>\n",
       "      <td>2013.486957</td>\n",
       "      <td>4.732171e+07</td>\n",
       "      <td>0.473217</td>\n",
       "    </tr>\n",
       "    <tr>\n",
       "      <th>14</th>\n",
       "      <td>Sci-Fi</td>\n",
       "      <td>2013.988462</td>\n",
       "      <td>3.780871e+08</td>\n",
       "      <td>3.780871</td>\n",
       "    </tr>\n",
       "    <tr>\n",
       "      <th>15</th>\n",
       "      <td>Thriller</td>\n",
       "      <td>2013.849645</td>\n",
       "      <td>1.211130e+08</td>\n",
       "      <td>1.211130</td>\n",
       "    </tr>\n",
       "  </tbody>\n",
       "</table>\n",
       "</div>"
      ],
      "text/plain": [
       "         genres         year   total_gross  hund mil\n",
       "0        Action  2013.965100  2.461619e+08  2.461619\n",
       "1     Adventure  2014.194127  3.557658e+08  3.557658\n",
       "2     Animation  2014.222390  3.386766e+08  3.386766\n",
       "3     Biography  2014.594238  6.856765e+07  0.685677\n",
       "4        Comedy  2013.803036  1.310463e+08  1.310463\n",
       "5         Crime  2013.889078  6.894319e+07  0.689432\n",
       "6   Documentary  2014.072464  2.922057e+07  0.292206\n",
       "7         Drama  2014.024559  5.526268e+07  0.552627\n",
       "8        Family  2013.403941  1.793349e+08  1.793349\n",
       "9       Fantasy  2014.119632  2.324773e+08  2.324773\n",
       "10      History  2014.658854  5.942769e+07  0.594277\n",
       "11       Horror  2014.085384  8.978475e+07  0.897847\n",
       "12      Mystery  2014.000000  8.499366e+07  0.849937\n",
       "13      Romance  2013.486957  4.732171e+07  0.473217\n",
       "14       Sci-Fi  2013.988462  3.780871e+08  3.780871\n",
       "15     Thriller  2013.849645  1.211130e+08  1.211130"
      ]
     },
     "execution_count": 40,
     "metadata": {},
     "output_type": "execute_result"
    }
   ],
   "source": [
    "# group the movie data by genre to compare profitability of each genre\n",
    "gnr_mean = genres_df.groupby('genres').mean()\n",
    "gnr_mean.reset_index(inplace=True)\n",
    "# view the dataframe\n",
    "gnr_mean['hund mil'] = gnr_mean['total_gross']/100000000\n",
    "gnr_mean"
   ]
  },
  {
   "cell_type": "code",
   "execution_count": 41,
   "metadata": {},
   "outputs": [
    {
     "data": {
      "image/png": "[encoded data removed]",
      "text/plain": [
       "<Figure size 360x432 with 1 Axes>"
      ]
     },
     "metadata": {
      "needs_background": "light"
     },
     "output_type": "display_data"
    }
   ],
   "source": [
    "# get a sense of the distribution of total_gross by genre\n",
    "gnr_mean.plot(title= 'Distribution of Total Gross by Genre', y = 'total_gross', ylabel= 'Hundereds of Millions of US Dollars',\n",
    "              kind = 'box', showmeans=True, figsize= (5, 6))\n",
    "# save the plot\n",
    "plt.savefig('images/gross_by_genre_box');"
   ]
  },
  {
   "cell_type": "markdown",
   "metadata": {},
   "source": [
    "We can see from the above boxplot that typical (based on mean) movies in some genres tend, on average, to produce earnings above the average genre."
   ]
  },
  {
   "cell_type": "code",
   "execution_count": 42,
   "metadata": {},
   "outputs": [
    {
     "data": {
      "image/png": "[encoded data removed]",
      "text/plain": [
       "<Figure size 432x288 with 1 Axes>"
      ]
     },
     "metadata": {
      "needs_background": "light"
     },
     "output_type": "display_data"
    }
   ],
   "source": [
    "# reorder dataframe by earnings\n",
    "gnr_mean.sort_values(by= 'total_gross', inplace=True)\n",
    "# a view of average earnings by genre\n",
    "gnr_mean.plot.barh(y= 'hund mil', x= 'genres', title = 'Mean Earnings by Genre', color = 'lightblue', legend = 'earnings')\n",
    "plt.xlabel('hundereds of millions of USD')\n",
    "plt.axvline(x = gnr_mean['hund mil'].mean(), color= 'pink', label = 'mean')\n",
    "plt.text(x = gnr_mean['hund mil'].mean(), y = 4, s = 'mean')\n",
    "# save plot\n",
    "plt.savefig('images/earnings_by_genre_barh', bbox_inches= 'tight');"
   ]
  },
  {
   "cell_type": "markdown",
   "metadata": {},
   "source": [
    "We can clearly see which genres are the most profitable:\n",
    "* Sci-Fi\n",
    "* Adventure\n",
    "* Animation\n",
    "* Action\n",
    "* Fantasy\n",
    "***"
   ]
  },
  {
   "cell_type": "markdown",
   "metadata": {},
   "source": [
    "### Languages & Profitability\n",
    "In this section I will explore how the earnings of movies can be affected by the language(s) in which that movie is available."
   ]
  },
  {
   "cell_type": "code",
   "execution_count": 43,
   "metadata": {},
   "outputs": [],
   "source": [
    "# remove rows without a given language\n",
    "lang_df = bom_basics_lang.dropna(subset= ['language'])\n",
    "lang_df.reset_index(drop=True, inplace=True)"
   ]
  },
  {
   "cell_type": "code",
   "execution_count": 44,
   "metadata": {},
   "outputs": [
    {
     "name": "stderr",
     "output_type": "stream",
     "text": [
      "C:\\Users\\melec\\anaconda3\\envs\\learn-env\\lib\\site-packages\\pandas\\core\\frame.py:4163: SettingWithCopyWarning: \n",
      "A value is trying to be set on a copy of a slice from a DataFrame\n",
      "\n",
      "See the caveats in the documentation: https://pandas.pydata.org/pandas-docs/stable/user_guide/indexing.html#returning-a-view-versus-a-copy\n",
      "  return super().drop(\n"
     ]
    }
   ],
   "source": [
    "# exclude irrelevant info\n",
    "lang_df.drop('genres', axis= 1, inplace=True)"
   ]
  },
  {
   "cell_type": "code",
   "execution_count": 45,
   "metadata": {},
   "outputs": [],
   "source": [
    "# remove languages with less than 20 movies (insufficient data)\n",
    "lang_df = lang_df[lang_df.groupby('language')['language'].transform('size') >= 20]\n",
    "lang_df.reset_index(drop=True, inplace=True)"
   ]
  },
  {
   "cell_type": "code",
   "execution_count": 46,
   "metadata": {},
   "outputs": [],
   "source": [
    "# create dataframe of info by language\n",
    "lang_group = lang_df.groupby('language')\n",
    "# create dataframe of mean language info\n",
    "lang_mean = lang_group.mean()\n",
    "lang_mean.reset_index(inplace=True)\n",
    "# reorder by earnings\n",
    "lang_mean.sort_values(by= 'foreign_gross', inplace=True)"
   ]
  },
  {
   "cell_type": "code",
   "execution_count": 47,
   "metadata": {},
   "outputs": [],
   "source": [
    "# create columns to shorten earnings numbers to enable uncrowded plot labels\n",
    "lang_mean['domestic gross'] = lang_mean['domestic_gross'] / 100000000\n",
    "lang_mean['foreign gross'] = lang_mean['foreign_gross'] / 100000000"
   ]
  },
  {
   "cell_type": "code",
   "execution_count": 48,
   "metadata": {
    "scrolled": false
   },
   "outputs": [
    {
     "data": {
      "image/png": "[encoded data removed]",
      "text/plain": [
       "<Figure size 432x432 with 1 Axes>"
      ]
     },
     "metadata": {
      "needs_background": "light"
     },
     "output_type": "display_data"
    }
   ],
   "source": [
    "# view mean earnings by language\n",
    "# this plot is arranged by foreign gross\n",
    "lang_mean.plot.barh(x = 'language', y = ['domestic gross', 'foreign gross'], title= 'Mean Earnings by Language', legend = 'foreign earnings', figsize=(6,6))\n",
    "plt.xlabel('hundereds of millions of USD')\n",
    "# save the plot\n",
    "plt.savefig('images/mean_earnings_by_lang_foreign_barh');"
   ]
  },
  {
   "cell_type": "markdown",
   "metadata": {},
   "source": [
    "It's apparent from the above plots that movies in certain languages earn more money than movies in other languages. The languages that earn more money domestically are different than those that earn more abroad. Unsurprisingly, there seems to be a less pronounced affect on earnings based on language domestically than abroad. \n",
    "***"
   ]
  },
  {
   "cell_type": "markdown",
   "metadata": {},
   "source": [
    "### Producers\n",
    "In this section I explore the relationship between the age of a movie's producer and its earnings. Is one age group more likely to produce higher earning moveis than another?"
   ]
  },
  {
   "cell_type": "code",
   "execution_count": 49,
   "metadata": {},
   "outputs": [],
   "source": [
    "# exclude movies without producer age given\n",
    "producers_df = bom_basics_lang_prod.dropna(subset=['birth_year'])"
   ]
  },
  {
   "cell_type": "code",
   "execution_count": 50,
   "metadata": {},
   "outputs": [
    {
     "name": "stderr",
     "output_type": "stream",
     "text": [
      "<ipython-input-50-117106c911b2>:2: SettingWithCopyWarning: \n",
      "A value is trying to be set on a copy of a slice from a DataFrame\n",
      "\n",
      "See the caveats in the documentation: https://pandas.pydata.org/pandas-docs/stable/user_guide/indexing.html#returning-a-view-versus-a-copy\n",
      "  producers_df.drop_duplicates(subset=['movie_id', 'producer'], inplace=True)\n"
     ]
    }
   ],
   "source": [
    "# remove multiple entries per movie unless there are multiple producers\n",
    "producers_df.drop_duplicates(subset=['movie_id', 'producer'], inplace=True)"
   ]
  },
  {
   "cell_type": "code",
   "execution_count": 51,
   "metadata": {},
   "outputs": [],
   "source": [
    "# goup data by producer age\n",
    "producer_age_df = producers_df.groupby('producer_age')\n",
    "# get a count of producers per age\n",
    "producer_age_count = producer_age_df.count()\n",
    "producer_age_count.reset_index(inplace=True)"
   ]
  },
  {
   "cell_type": "code",
   "execution_count": 52,
   "metadata": {},
   "outputs": [],
   "source": [
    "# create a dataframe with column of count of producers per age\n",
    "producer_age_count['producers_per_age'] = producer_age_count['producer']\n",
    "# remove extra columns\n",
    "producer_age_count_df = producer_age_count.drop(['movie_id', 'title', 'year', 'domestic_gross',\n",
    "       'foreign_gross', 'total_gross', 'genres', 'language', 'producer',\n",
    "       'birth_year'], axis=1)"
   ]
  },
  {
   "cell_type": "code",
   "execution_count": 53,
   "metadata": {},
   "outputs": [
    {
     "data": {
      "text/html": [
       "<div>\n",
       "<style scoped>\n",
       "    .dataframe tbody tr th:only-of-type {\n",
       "        vertical-align: middle;\n",
       "    }\n",
       "\n",
       "    .dataframe tbody tr th {\n",
       "        vertical-align: top;\n",
       "    }\n",
       "\n",
       "    .dataframe thead th {\n",
       "        text-align: right;\n",
       "    }\n",
       "</style>\n",
       "<table border=\"1\" class=\"dataframe\">\n",
       "  <thead>\n",
       "    <tr style=\"text-align: right;\">\n",
       "      <th></th>\n",
       "      <th>producer_age</th>\n",
       "      <th>year</th>\n",
       "      <th>domestic_gross</th>\n",
       "      <th>foreign_gross</th>\n",
       "      <th>total_gross</th>\n",
       "      <th>birth_year</th>\n",
       "    </tr>\n",
       "  </thead>\n",
       "  <tbody>\n",
       "    <tr>\n",
       "      <th>0</th>\n",
       "      <td>23.0</td>\n",
       "      <td>2013.000000</td>\n",
       "      <td>1.170000e+05</td>\n",
       "      <td>0.0</td>\n",
       "      <td>1.170000e+05</td>\n",
       "      <td>1990.000000</td>\n",
       "    </tr>\n",
       "    <tr>\n",
       "      <th>1</th>\n",
       "      <td>25.0</td>\n",
       "      <td>2011.000000</td>\n",
       "      <td>2.600000e+03</td>\n",
       "      <td>0.0</td>\n",
       "      <td>2.600000e+03</td>\n",
       "      <td>1986.000000</td>\n",
       "    </tr>\n",
       "    <tr>\n",
       "      <th>2</th>\n",
       "      <td>26.0</td>\n",
       "      <td>2012.833333</td>\n",
       "      <td>3.630368e+07</td>\n",
       "      <td>27500000.0</td>\n",
       "      <td>6.380368e+07</td>\n",
       "      <td>1986.833333</td>\n",
       "    </tr>\n",
       "    <tr>\n",
       "      <th>3</th>\n",
       "      <td>27.0</td>\n",
       "      <td>2011.250000</td>\n",
       "      <td>4.251608e+07</td>\n",
       "      <td>34525000.0</td>\n",
       "      <td>7.704108e+07</td>\n",
       "      <td>1984.250000</td>\n",
       "    </tr>\n",
       "    <tr>\n",
       "      <th>4</th>\n",
       "      <td>28.0</td>\n",
       "      <td>2012.875000</td>\n",
       "      <td>1.312029e+07</td>\n",
       "      <td>24759250.0</td>\n",
       "      <td>3.787954e+07</td>\n",
       "      <td>1984.875000</td>\n",
       "    </tr>\n",
       "    <tr>\n",
       "      <th>...</th>\n",
       "      <td>...</td>\n",
       "      <td>...</td>\n",
       "      <td>...</td>\n",
       "      <td>...</td>\n",
       "      <td>...</td>\n",
       "      <td>...</td>\n",
       "    </tr>\n",
       "    <tr>\n",
       "      <th>59</th>\n",
       "      <td>83.0</td>\n",
       "      <td>2017.000000</td>\n",
       "      <td>2.811400e+06</td>\n",
       "      <td>0.0</td>\n",
       "      <td>2.811400e+06</td>\n",
       "      <td>1934.000000</td>\n",
       "    </tr>\n",
       "    <tr>\n",
       "      <th>60</th>\n",
       "      <td>86.0</td>\n",
       "      <td>2014.000000</td>\n",
       "      <td>5.060000e+07</td>\n",
       "      <td>84900000.0</td>\n",
       "      <td>1.355000e+08</td>\n",
       "      <td>1928.000000</td>\n",
       "    </tr>\n",
       "    <tr>\n",
       "      <th>61</th>\n",
       "      <td>87.0</td>\n",
       "      <td>2013.000000</td>\n",
       "      <td>5.820000e+07</td>\n",
       "      <td>129900000.0</td>\n",
       "      <td>1.881000e+08</td>\n",
       "      <td>1926.000000</td>\n",
       "    </tr>\n",
       "    <tr>\n",
       "      <th>62</th>\n",
       "      <td>88.0</td>\n",
       "      <td>2014.000000</td>\n",
       "      <td>7.030000e+05</td>\n",
       "      <td>23500000.0</td>\n",
       "      <td>2.420300e+07</td>\n",
       "      <td>1926.000000</td>\n",
       "    </tr>\n",
       "    <tr>\n",
       "      <th>63</th>\n",
       "      <td>91.0</td>\n",
       "      <td>2015.000000</td>\n",
       "      <td>6.100000e+03</td>\n",
       "      <td>0.0</td>\n",
       "      <td>6.100000e+03</td>\n",
       "      <td>1924.000000</td>\n",
       "    </tr>\n",
       "  </tbody>\n",
       "</table>\n",
       "<p>64 rows × 6 columns</p>\n",
       "</div>"
      ],
      "text/plain": [
       "    producer_age         year  domestic_gross  foreign_gross   total_gross  \\\n",
       "0           23.0  2013.000000    1.170000e+05            0.0  1.170000e+05   \n",
       "1           25.0  2011.000000    2.600000e+03            0.0  2.600000e+03   \n",
       "2           26.0  2012.833333    3.630368e+07     27500000.0  6.380368e+07   \n",
       "3           27.0  2011.250000    4.251608e+07     34525000.0  7.704108e+07   \n",
       "4           28.0  2012.875000    1.312029e+07     24759250.0  3.787954e+07   \n",
       "..           ...          ...             ...            ...           ...   \n",
       "59          83.0  2017.000000    2.811400e+06            0.0  2.811400e+06   \n",
       "60          86.0  2014.000000    5.060000e+07     84900000.0  1.355000e+08   \n",
       "61          87.0  2013.000000    5.820000e+07    129900000.0  1.881000e+08   \n",
       "62          88.0  2014.000000    7.030000e+05     23500000.0  2.420300e+07   \n",
       "63          91.0  2015.000000    6.100000e+03            0.0  6.100000e+03   \n",
       "\n",
       "     birth_year  \n",
       "0   1990.000000  \n",
       "1   1986.000000  \n",
       "2   1986.833333  \n",
       "3   1984.250000  \n",
       "4   1984.875000  \n",
       "..          ...  \n",
       "59  1934.000000  \n",
       "60  1928.000000  \n",
       "61  1926.000000  \n",
       "62  1926.000000  \n",
       "63  1924.000000  \n",
       "\n",
       "[64 rows x 6 columns]"
      ]
     },
     "execution_count": 53,
     "metadata": {},
     "output_type": "execute_result"
    }
   ],
   "source": [
    "# get mean data from producer_age_df\n",
    "mean_producer_age_df = producer_age_df.mean()\n",
    "mean_producer_age_df.reset_index(inplace=True)\n",
    "mean_producer_age_df"
   ]
  },
  {
   "cell_type": "code",
   "execution_count": 54,
   "metadata": {},
   "outputs": [],
   "source": [
    "# add count of producers per age\n",
    "mean_producer_age_df = mean_producer_age_df.merge(producer_age_count_df, on='producer_age')"
   ]
  },
  {
   "cell_type": "code",
   "execution_count": 55,
   "metadata": {},
   "outputs": [],
   "source": [
    "# drop unneeded columns\n",
    "mean_producer_age_df.drop(['year', 'domestic_gross', 'foreign_gross', 'birth_year'], axis=1, inplace=True)"
   ]
  },
  {
   "cell_type": "code",
   "execution_count": 56,
   "metadata": {},
   "outputs": [
    {
     "data": {
      "text/html": [
       "<div>\n",
       "<style scoped>\n",
       "    .dataframe tbody tr th:only-of-type {\n",
       "        vertical-align: middle;\n",
       "    }\n",
       "\n",
       "    .dataframe tbody tr th {\n",
       "        vertical-align: top;\n",
       "    }\n",
       "\n",
       "    .dataframe thead th {\n",
       "        text-align: right;\n",
       "    }\n",
       "</style>\n",
       "<table border=\"1\" class=\"dataframe\">\n",
       "  <thead>\n",
       "    <tr style=\"text-align: right;\">\n",
       "      <th></th>\n",
       "      <th>producer_age</th>\n",
       "      <th>total_gross</th>\n",
       "      <th>producers_per_age</th>\n",
       "    </tr>\n",
       "  </thead>\n",
       "  <tbody>\n",
       "    <tr>\n",
       "      <th>0</th>\n",
       "      <td>23.0</td>\n",
       "      <td>1.170000e+05</td>\n",
       "      <td>1</td>\n",
       "    </tr>\n",
       "    <tr>\n",
       "      <th>1</th>\n",
       "      <td>25.0</td>\n",
       "      <td>2.600000e+03</td>\n",
       "      <td>1</td>\n",
       "    </tr>\n",
       "    <tr>\n",
       "      <th>2</th>\n",
       "      <td>26.0</td>\n",
       "      <td>6.380368e+07</td>\n",
       "      <td>6</td>\n",
       "    </tr>\n",
       "    <tr>\n",
       "      <th>3</th>\n",
       "      <td>27.0</td>\n",
       "      <td>7.704108e+07</td>\n",
       "      <td>4</td>\n",
       "    </tr>\n",
       "    <tr>\n",
       "      <th>4</th>\n",
       "      <td>28.0</td>\n",
       "      <td>3.787954e+07</td>\n",
       "      <td>8</td>\n",
       "    </tr>\n",
       "    <tr>\n",
       "      <th>...</th>\n",
       "      <td>...</td>\n",
       "      <td>...</td>\n",
       "      <td>...</td>\n",
       "    </tr>\n",
       "    <tr>\n",
       "      <th>59</th>\n",
       "      <td>83.0</td>\n",
       "      <td>2.811400e+06</td>\n",
       "      <td>2</td>\n",
       "    </tr>\n",
       "    <tr>\n",
       "      <th>60</th>\n",
       "      <td>86.0</td>\n",
       "      <td>1.355000e+08</td>\n",
       "      <td>1</td>\n",
       "    </tr>\n",
       "    <tr>\n",
       "      <th>61</th>\n",
       "      <td>87.0</td>\n",
       "      <td>1.881000e+08</td>\n",
       "      <td>1</td>\n",
       "    </tr>\n",
       "    <tr>\n",
       "      <th>62</th>\n",
       "      <td>88.0</td>\n",
       "      <td>2.420300e+07</td>\n",
       "      <td>1</td>\n",
       "    </tr>\n",
       "    <tr>\n",
       "      <th>63</th>\n",
       "      <td>91.0</td>\n",
       "      <td>6.100000e+03</td>\n",
       "      <td>1</td>\n",
       "    </tr>\n",
       "  </tbody>\n",
       "</table>\n",
       "<p>64 rows × 3 columns</p>\n",
       "</div>"
      ],
      "text/plain": [
       "    producer_age   total_gross  producers_per_age\n",
       "0           23.0  1.170000e+05                  1\n",
       "1           25.0  2.600000e+03                  1\n",
       "2           26.0  6.380368e+07                  6\n",
       "3           27.0  7.704108e+07                  4\n",
       "4           28.0  3.787954e+07                  8\n",
       "..           ...           ...                ...\n",
       "59          83.0  2.811400e+06                  2\n",
       "60          86.0  1.355000e+08                  1\n",
       "61          87.0  1.881000e+08                  1\n",
       "62          88.0  2.420300e+07                  1\n",
       "63          91.0  6.100000e+03                  1\n",
       "\n",
       "[64 rows x 3 columns]"
      ]
     },
     "execution_count": 56,
     "metadata": {},
     "output_type": "execute_result"
    }
   ],
   "source": [
    "mean_producer_age_df"
   ]
  },
  {
   "cell_type": "code",
   "execution_count": 57,
   "metadata": {},
   "outputs": [
    {
     "data": {
      "image/png": "[encoded data removed]",
      "text/plain": [
       "<Figure size 1080x288 with 1 Axes>"
      ]
     },
     "metadata": {
      "needs_background": "light"
     },
     "output_type": "display_data"
    }
   ],
   "source": [
    "# show mean earnings by age\n",
    "mean_producer_age_df.plot.bar(x = 'producer_age', y = 'total_gross', figsize=(15,4));"
   ]
  },
  {
   "cell_type": "code",
   "execution_count": 58,
   "metadata": {},
   "outputs": [
    {
     "data": {
      "text/html": [
       "<div>\n",
       "<style scoped>\n",
       "    .dataframe tbody tr th:only-of-type {\n",
       "        vertical-align: middle;\n",
       "    }\n",
       "\n",
       "    .dataframe tbody tr th {\n",
       "        vertical-align: top;\n",
       "    }\n",
       "\n",
       "    .dataframe thead th {\n",
       "        text-align: right;\n",
       "    }\n",
       "</style>\n",
       "<table border=\"1\" class=\"dataframe\">\n",
       "  <thead>\n",
       "    <tr style=\"text-align: right;\">\n",
       "      <th></th>\n",
       "      <th>producer_age</th>\n",
       "      <th>total_gross</th>\n",
       "      <th>producers_per_age</th>\n",
       "      <th>age_group</th>\n",
       "    </tr>\n",
       "  </thead>\n",
       "  <tbody>\n",
       "    <tr>\n",
       "      <th>0</th>\n",
       "      <td>23.0</td>\n",
       "      <td>1.170000e+05</td>\n",
       "      <td>1</td>\n",
       "      <td>twentys</td>\n",
       "    </tr>\n",
       "    <tr>\n",
       "      <th>1</th>\n",
       "      <td>25.0</td>\n",
       "      <td>2.600000e+03</td>\n",
       "      <td>1</td>\n",
       "      <td>twentys</td>\n",
       "    </tr>\n",
       "    <tr>\n",
       "      <th>2</th>\n",
       "      <td>26.0</td>\n",
       "      <td>6.380368e+07</td>\n",
       "      <td>6</td>\n",
       "      <td>twentys</td>\n",
       "    </tr>\n",
       "    <tr>\n",
       "      <th>3</th>\n",
       "      <td>27.0</td>\n",
       "      <td>7.704108e+07</td>\n",
       "      <td>4</td>\n",
       "      <td>twentys</td>\n",
       "    </tr>\n",
       "    <tr>\n",
       "      <th>4</th>\n",
       "      <td>28.0</td>\n",
       "      <td>3.787954e+07</td>\n",
       "      <td>8</td>\n",
       "      <td>twentys</td>\n",
       "    </tr>\n",
       "    <tr>\n",
       "      <th>...</th>\n",
       "      <td>...</td>\n",
       "      <td>...</td>\n",
       "      <td>...</td>\n",
       "      <td>...</td>\n",
       "    </tr>\n",
       "    <tr>\n",
       "      <th>59</th>\n",
       "      <td>83.0</td>\n",
       "      <td>2.811400e+06</td>\n",
       "      <td>2</td>\n",
       "      <td>eightys</td>\n",
       "    </tr>\n",
       "    <tr>\n",
       "      <th>60</th>\n",
       "      <td>86.0</td>\n",
       "      <td>1.355000e+08</td>\n",
       "      <td>1</td>\n",
       "      <td>eightys</td>\n",
       "    </tr>\n",
       "    <tr>\n",
       "      <th>61</th>\n",
       "      <td>87.0</td>\n",
       "      <td>1.881000e+08</td>\n",
       "      <td>1</td>\n",
       "      <td>eightys</td>\n",
       "    </tr>\n",
       "    <tr>\n",
       "      <th>62</th>\n",
       "      <td>88.0</td>\n",
       "      <td>2.420300e+07</td>\n",
       "      <td>1</td>\n",
       "      <td>eightys</td>\n",
       "    </tr>\n",
       "    <tr>\n",
       "      <th>63</th>\n",
       "      <td>91.0</td>\n",
       "      <td>6.100000e+03</td>\n",
       "      <td>1</td>\n",
       "      <td>ninetys</td>\n",
       "    </tr>\n",
       "  </tbody>\n",
       "</table>\n",
       "<p>64 rows × 4 columns</p>\n",
       "</div>"
      ],
      "text/plain": [
       "    producer_age   total_gross  producers_per_age age_group\n",
       "0           23.0  1.170000e+05                  1   twentys\n",
       "1           25.0  2.600000e+03                  1   twentys\n",
       "2           26.0  6.380368e+07                  6   twentys\n",
       "3           27.0  7.704108e+07                  4   twentys\n",
       "4           28.0  3.787954e+07                  8   twentys\n",
       "..           ...           ...                ...       ...\n",
       "59          83.0  2.811400e+06                  2   eightys\n",
       "60          86.0  1.355000e+08                  1   eightys\n",
       "61          87.0  1.881000e+08                  1   eightys\n",
       "62          88.0  2.420300e+07                  1   eightys\n",
       "63          91.0  6.100000e+03                  1   ninetys\n",
       "\n",
       "[64 rows x 4 columns]"
      ]
     },
     "execution_count": 58,
     "metadata": {},
     "output_type": "execute_result"
    }
   ],
   "source": [
    "# create bins per decade age\n",
    "mean_producer_age_df['age_group'] = pd.cut(x = mean_producer_age_df['producer_age'], bins=[20, 30, 40, 50, 60, 70, 80, 90, 100], labels = ['twentys', 'thirtys', 'fortys', 'fiftys', 'sixtys', 'seventys', 'eightys', 'ninetys'])\n",
    "mean_producer_age_df"
   ]
  },
  {
   "cell_type": "code",
   "execution_count": 59,
   "metadata": {},
   "outputs": [],
   "source": [
    "# sort info by producer decade\n",
    "grouped_decade = mean_producer_age_df.groupby('age_group').mean()\n",
    "grouped_decade.reset_index(inplace=True)\n",
    "# divide total_gross by 100000000 to neaten plot\n",
    "grouped_decade['total_gross'] = grouped_decade['total_gross']/100000000"
   ]
  },
  {
   "cell_type": "code",
   "execution_count": 60,
   "metadata": {},
   "outputs": [
    {
     "data": {
      "text/plain": [
       "''"
      ]
     },
     "execution_count": 60,
     "metadata": {},
     "output_type": "execute_result"
    },
    {
     "data": {
      "image/png": "[encoded data removed]",
      "text/plain": [
       "<Figure size 432x288 with 1 Axes>"
      ]
     },
     "metadata": {
      "needs_background": "light"
     },
     "output_type": "display_data"
    }
   ],
   "source": [
    "# create plot showing mean earnings by producer decade\n",
    "grouped_decade.plot.bar(x = 'age_group', y = 'total_gross', color ='purple')\n",
    "plt.title('Mean Earnings by Producer Age Group')\n",
    "plt.xlabel('age group')\n",
    "plt.ylabel('hundereds of milions of USD')\n",
    "plt.savefig('images/mean_earnings_age_group_bar.png');"
   ]
  },
  {
   "cell_type": "markdown",
   "metadata": {},
   "source": [
    "From the above plot, a clear pattern of increased earnings as the age of a producer increases is visible. But, only to a point; this pattern peaks at producers in their sixtys but is no longer true of producers in their seventies and older.\n",
    "***"
   ]
  },
  {
   "cell_type": "markdown",
   "metadata": {},
   "source": [
    "## Conclusions\n",
    "\n",
    "Three recomendations based on the above anaysis are:\n",
    "* Movies produced should be in one of the top genres for earnings. (Publishing movies of only the highest earning genre doesn't seem like a great idea for a company's reputation; it seems dull & unexciting & may drive away business.)  \n",
    "The 5 highest earning genres are (in order of descending profitability):\n",
    "    * sci-fi\n",
    "    * adventure\n",
    "    * animation\n",
    "    * action\n",
    "    * fantasy  \n",
    "  \n",
    "* Films in certain languages are more profitable, therefore, production (especially for foreign markets) should focus on movies in those languages. It should be noted that foreign earnings of a movie by language is certainly influenced by the region in which a movie is released & should be taken into account when determining the release language of a given film.  \n",
    "The top earning languages are (in descending order):\n",
    "    * Dutch\n",
    "    * Persian\n",
    "    * Hindi\n",
    "    * Mandarin Chinese  \n",
    "    \n",
    "* For producers under 70 years old, the older they are, the more their productions tend to earn. Therefore, movie producers in their sixtys should be hired to increase film revenue.\n",
    "    \n",
    "\n",
    "\n",
    "\n",
    "\n",
    "It should be noted that that my analysis only examined what movies grossed the most money, but did not take into account that certain movies may have higher costs (e.g. production, marketing), thus reducing actual profit. Further analysis should include that information to determine which movies are truly the most profitable."
   ]
  }
 ],
 "metadata": {
  "kernelspec": {
   "display_name": "Python 3",
   "language": "python",
   "name": "python3"
  },
  "language_info": {
   "codemirror_mode": {
    "name": "ipython",
    "version": 3
   },
   "file_extension": ".py",
   "mimetype": "text/x-python",
   "name": "python",
   "nbconvert_exporter": "python",
   "pygments_lexer": "ipython3",
   "version": "3.8.5"
  }
 },
 "nbformat": 4,
 "nbformat_minor": 4
}
